{
 "cells": [
  {
   "cell_type": "markdown",
   "metadata": {},
   "source": [
    "# Extraction de Keywords"
   ]
  },
  {
   "cell_type": "markdown",
   "metadata": {},
   "source": [
    "## Imports"
   ]
  },
  {
   "cell_type": "code",
   "execution_count": 2,
   "metadata": {},
   "outputs": [],
   "source": [
    "import os\n",
    "import yake"
   ]
  },
  {
   "cell_type": "markdown",
   "metadata": {},
   "source": [
    "## Extraire les mots clés d'un document avec Yake"
   ]
  },
  {
   "cell_type": "markdown",
   "metadata": {},
   "source": [
    "https://github.com/LIAAD/yake"
   ]
  },
  {
   "cell_type": "code",
   "execution_count": 3,
   "metadata": {},
   "outputs": [
    {
     "data": {
      "text/plain": [
       "<yake.yake.KeywordExtractor at 0x10484df90>"
      ]
     },
     "execution_count": 3,
     "metadata": {},
     "output_type": "execute_result"
    }
   ],
   "source": [
    "# Instantier l'extracteur de mots clés\n",
    "kw_extractor = yake.KeywordExtractor(lan=\"fr\", top=50)\n",
    "kw_extractor"
   ]
  },
  {
   "cell_type": "code",
   "execution_count": 4,
   "metadata": {},
   "outputs": [],
   "source": [
    "# Lister les Fichiers \n",
    "data_path = \"../data/txt/\"\n",
    "files = [f for f in os.listdir(data_path) if f.endswith('.txt')]\n",
    "\n",
    "#(ici je vais filtrer les fichiers de 1970)\n",
    "files = [f for f in files if \"1970\" in f]\n"
   ]
  },
  {
   "cell_type": "code",
   "execution_count": 5,
   "metadata": {},
   "outputs": [
    {
     "data": {
      "text/plain": [
       "100"
      ]
     },
     "execution_count": 5,
     "metadata": {},
     "output_type": "execute_result"
    }
   ],
   "source": [
    "# Imprimer le nombre de fichiers identifiés\n",
    "len(files)"
   ]
  },
  {
   "cell_type": "code",
   "execution_count": 6,
   "metadata": {},
   "outputs": [
    {
     "name": "stdout",
     "output_type": "stream",
     "text": [
      "KB_JB838_1970-01-03_01-00002.txt mentions these keywords: Banque Nationale, SECTEUR PUBLIC, banques centrales, docteur Wynen, Commission nationale, Conseil d’Etat, fonds publics, Chambre syndicale, bureau politique, Fonds monétaire, Prévoyance sociale, politique économique, docteur Henrard...\n",
      "KB_JB838_1970-01-06_01-00004.txt mentions these keywords: grièvement blessé, PLUIES TORRENTIELLES, voiture conduite, grippe asiatique, Vingt-six morts, Joseph Matagne, fut tué, Raymond Moris...\n",
      "KB_JB838_1970-01-07_01-00020.txt mentions these keywords: GENERAL BISCUITS, BISCUITS PROMOTEUR, Bar dem, Mrs Johnson, engage GENERAL, Mrs Hawkins, dem. fem, Bar dem., bon salaire...\n",
      "KB_JB838_1970-01-09_01-00010.txt mentions these keywords: rue Belliard, THEATRE NATIONAL, Cirque Royal, THEATRE FLAMAND, Grand film, Claude François, Walter Matthau, van een, Cactus Flower, Alain Delon, Walt Disney, som VENDREDI, Laterna Magika, Grand Prix, Jean Gabln, Enfants admis...\n",
      "KB_JB838_1970-01-10_01-00029.txt mentions these keywords: SERVANTE INTERNE, servante int, Agence Rossel, ROCHER demxnd., dem. fem, Bons gages, Bon salaire...\n",
      "KB_JB838_1970-01-18_01-00013.txt mentions these keywords: défense locale, but visiteur, coup franc, but fut, partie fut, jeu fut, Van Hove, l’équipe locale, but adverse, tir fut, dernières minutes...\n",
      "KB_JB838_1970-01-21_01-00011.txt mentions these keywords: stade Fallon, Vingt-quatre joueurs, JEAN NICOLAY, Mexique n’est...\n",
      "KB_JB838_1970-01-22_01-00032.txt mentions these keywords: Van Laethem, Agence Rossel, cse santé, Ecrire Agence, LESOIR JEUDI...\n",
      "KB_JB838_1970-01-25_01-00014.txt mentions these keywords: Remis SERIE, JUNIORS SERIE, Serge Reding, Prix d’Amérique, SCOLAIRES SERIE, Prix Junior, BRABANT SERIE, LUXEMBOURG SERIE, Wécrat SERIE, Jamalla SERIE, Kaetbe SERIE, Cbanche SERIE, Mmirery SERIE, Vlrtou SERIE, Keufchtteae SERIE, Pais SERIE, Prix Lord, prince Albert...\n",
      "KB_JB838_1970-02-04_01-00006.txt mentions these keywords: vol. S’engouffrant, Reine Elisabeth, PREMIERE PAGE, VOIR DEBUT, Comité national, Centre reine, jeune homme, Buenos Aires, bandits s'emparent...\n",
      "KB_JB838_1970-02-11_01-00015.txt mentions these keywords: tient lieu, avis tient, Madame Léon, faire part, MADAME VEUVE, MONSIEUR Léon, présent avis, Madame Georges, VAN KESSEL, Madame Marc, service funèbre, MONSIEUR Marc, Madame Jean...\n",
      "KB_JB838_1970-02-13_01-00026.txt mentions these keywords: Dem. fem, îew York, Bon salaire, Bruxelles Tél, Agence Rossel...\n",
      "KB_JB838_1970-02-14_01-00006.txt mentions these keywords: Maurice Martin, Barbet Schroeder, Grand officier, Anciens Etablissements, L’hiver poursuit, STYLO WATERMAN, SOIR L’hiver, officiers supérieurs...\n",
      "KB_JB838_1970-02-14_01-00022.txt mentions these keywords: App. mod, Roi Albert, grand luxe, PARC CINQUANTENAIRE, bel app...\n",
      "KB_JB838_1970-02-15_01-00016.txt mentions these keywords: Van Damme, Zone Italie, Division III, Van Onckelen, VAL GARDENA, Albert Van, Zone Suisse, Claude Vanstenagen, zone belge, Van Katwijk, Van Hoeyweghen, Van Malder, Red Sox...\n",
      "KB_JB838_1970-02-19_01-00011.txt mentions these keywords: Raymond Goethals, Van Der, comité sportif, Van Katwijck, Van Gheluwe, Van Malder, Van Haver, Van Cauter, Joël Robert, Caroloréglen Joël...\n",
      "KB_JB838_1970-02-20_01-00007.txt mentions these keywords: Paco Rabanne, HELENE FRANÇOIS, FRANÇOIS Robe, Pierre Balmain, soir enroulée, FRANGES Long, jolies franges, raisins secs, MODE ITALIENNE, Rabanne d’être, MARIEE FANTOME...\n",
      "KB_JB838_1970-02-26_01-00022.txt mentions these keywords: curriculum vitae, Agence Rossel, Avantages extra-légaux, VANYPECO çngàgo, Service Comptabilité, l'Agence Rossel, SOCIETE ANONYME, ANS Ecrire, ans DACTYLOS, BRUXELLES CENTRE, DACTYLO bilingue, Importante société, BRUXELLES engage...\n",
      "KB_JB838_1970-03-04_01-00015.txt mentions these keywords: Madame Jean, faire part, avis tient, Heine Elisabeth, Elisabeth Ex-médecin, tient lieu, MONSIEUR Jean, MONSIEUR Maurice, Madame Charles, Madame JEANNE, MONSIEUR HERMAN...\n",
      "KB_JB838_1970-03-10_01-00024.txt mentions these keywords: Bons salaires, présenter Etage, Bon salaire, Bruxelles Tél, SOIR MARDI, BRUXELLES dem, Bon sal, JEUNES FILLES, rue Royale, BRUXELLES engage...\n",
      "KB_JB838_1970-03-15_01-00011.txt mentions these keywords: Van Himst, but brugeois, équipes Goals, Van Moer, FOOTBALL fois, Gérard Sulon, PROMOTION SERIE, but Boone, l’entraîneur brugeois, envoyé spécial...\n",
      "KB_JB838_1970-03-19_01-00015.txt mentions these keywords: BRUXELLES CONFERENCES, chèques postaux, Comité national, mars AFF, septembre AFF, avril AFF, service public, juin AFF, juillet AFF, août AFF, octobre AFF, novembre AFF, décembre AFF, janvier AFF, prof Puig...\n",
      "KB_JB838_1970-03-22_01-00002.txt mentions these keywords: parti politique, l’agglomération bruxelloise, problèmes communautaires, président national, problèmes bruxellois, Bruxelles C’est, Fédération bruxelloise, conseils culturels, Conseil d’agglomération...\n",
      "KB_JB838_1970-03-22_01-00029.txt mentions these keywords: DESSINATEUR CREATEUR, DESSINATEUR TECHNICIEN, DESSINATEUR ENSEMBLIER, JEUNE EMPLOYE, curriculum vitae, Importante société, souhaitée DESSINATEUR, THE EUROPEAN, l’Agence Rossel, JEUNE DACTYLO, Rue Chet, société jeune...\n",
      "KB_JB838_1970-03-27_01-00018.txt mentions these keywords: SOIE VENDREDI, Belle FERMETTE, belle villa, belle maison, souvent charmant, valeur sûre...\n",
      "KB_JB838_1970-03-28_01-00027.txt mentions these keywords: NEERLANDAIS INDISPENSABLE, l’Agence Rossel, Voyages HOTELPLAN, AGENCE ROSSEL, SOIR IMPORTANT, Faire offre, VITAE DETAILLE, CURRICULUM VITAE, HOTELPLAN recherchent, entrée immédiate, DACTYLO BILINGUE, Vaste expérience, IMPORTANT GROUPE, ANGLAIS SOUHAITE, Ecrire Rossel, désire engager...\n",
      "KB_JB838_1970-06-02_01-00032.txt mentions these keywords: jMMtAÀ Covd, Ajl ibvÜM, Alfa Romeo, Prince Orange...\n",
      "KB_JB838_1970-06-03_01-00001.txt mentions these keywords: Pathet Lao, JOURNAL QUOTIDIEN, CHEQUES POSTAUX, BRUXELLES PARIS, Lundi soir, AGENCE ROSSEL, Louang Prabang...\n",
      "KB_JB838_1970-06-04_01-00009.txt mentions these keywords: Giuseppe Ungaretti, Eric Buyssens, grands poètes, lycée français, Paris qu’il, poésie Italienne, professeur belge, grande scène, petite salle...\n",
      "KB_JB838_1970-06-09_01-00017.txt mentions these keywords: francs belges, couverture légale, Banque nationale, banques centrales, Règlements Internationaux, dollar canadien, franc belge, JLtv ECONOMIE, eore JUC, Société Générale, assemblée générale, Banque Générale, pays d’Europe...\n",
      "KB_JB838_1970-06-11_01-00004.txt mentions these keywords: New York, mardi soir, Roland Petit, mercredi matin, d’une fracture, d’un million, Lancé mercredi, domicilié rue...\n",
      "KB_JB838_1970-06-13_01-00012.txt mentions these keywords: seul but, guidaient l'équipe, but italien, gardien israélien...\n",
      "KB_JB838_1970-06-18_01-00020.txt mentions these keywords: BRUXELLES Tél, beau terr, Beaux terrains...\n",
      "KB_JB838_1970-06-18_01-00023.txt mentions these keywords: porte Louise, Méfia Alicante, LOUISE App...\n",
      "KB_JB838_1970-06-18_01-00025.txt mentions these keywords: curriculum vitae, l’Agence Rossel, l’esprit d’équipe, zoning industriel, souhaitons recruter, Agence Rossel, l’Agence HAVAS, Bruxelles demandent, Faire offre, RUE ROYALE, société établie...\n",
      "KB_JB838_1970-06-19_01-00017.txt mentions these keywords: d’une valeur, juin journées, exceptionnelle VENTE, publicitaires scott, BON MARCHE, PARKING COMMUNIQUANT, COMMUNIQUANT DIRECTEMENT, Bruxelles Centre, SCOTT vendus, SCOTT représente, Scott l’aide, qu’un kilo, d'un valeur, journées publicitaires, serviettes périodiques, table d’une, vivez BON, essuie-tout d’une, Centre seulement, rouleaux essuie-tout...\n",
      "KB_JB838_1970-06-20_01-00020.txt mentions these keywords: Cornélius DIERCKX, Monsieur Paul, Comelia DIERCKX, Madame Maria, Monsieur Xavier, Albert JOTTRAND, Maître Albert, Bukavu Volume...\n",
      "KB_JB838_1970-06-21_01-00001.txt mentions these keywords: JOURNAL QUOÏIOIEN, Marché commun, CHEQUES POSTAUX, POSTAUX PUBLICITE, nouveau ministre, Eddy Merckx, d’une monnaie, Soir illustré...\n",
      "KB_JB838_1970-06-21_01-00029.txt mentions these keywords: INGENIEURS TECHNICIENS, etes-vous douée, Faire offre, importante société, FORMATION PRATIQUE, FIRME INDUSTRIELLE, TECHNICIENS ELECTRONICIENS, curriculum vitae, METHODE NOUVELLE, problèmes financiers, Avantages extra-légaux...\n",
      "KB_JB838_1970-06-24_01-00001.txt mentions these keywords: politiques flamands, BRUXELLES PARIS, CHEQUES POSTAUX, POSTAUX FUBUCITE, d’une Belgique, WILTON PARK, classe politique, fli Pohusri...\n",
      "KB_JB838_1970-06-28_01-00011.txt mentions these keywords: VAN DEN, DEN BERGHE, Eddy Merckx, EQUIPIER ZIUOLI, MAILLOT JAUNE, Guillaume Driessens, Angers Merckx, Italo Zilioli, directeur sportif, Merckx n’était, TOUR MERCKX, Van Springel, PRECEDE GEORGES, GEORGES VAN, Téléphoto exclusive...\n",
      "KB_JB838_1970-06-30_01-00005.txt mentions these keywords: communes flamandes, élections communales, communes francophones, prochaines élections, questions linguistiques, problèmes linguistiques, élections législatives, partis traditionnels, dernières élections, Rassemblement wallon...\n",
      "KB_JB838_1970-08-01_01-00011.txt mentions these keywords: Bruno Zauli, simple messieurs, coupe d’Europe, simple dames, Emile Puttemans, José Letroye, Gaston Roelants, Van Poucke, Van Assche, l’équipe belge, Van Belle, libre masculin, van Beek...\n",
      "KB_JB838_1970-08-01_01-00020.txt mentions these keywords: MAHALLAT ISPHAHAN, ISPHAHAN MELAHYRE, MELAHYRE BOUKHARA, BOUKHARA AFGHAN, AFGHAN LILIAN, LILIAN MEHRIVAN, MEHRIVAN MECHED, MECHED SAROUK, SAROUK MIR, MIR KECHAN, D’ORIENT SOLDES, entier MAHALLAT, lux. app, SOLDES Reste...\n",
      "KB_JB838_1970-08-06_01-00020.txt mentions these keywords: Centra Rogter, INTERIMS IMMEDIATS, curriculum vitae, fnterlabor Intérims, Tolton d’Or, som JEUDI, 602-603 Centra, l’Agence Rossel, EMPLOYEE BILINGUE, avantages extra-légaux, dactylo bilingue...\n",
      "KB_JB838_1970-08-12_01-00021.txt mentions these keywords: Van Laethem, Bureau Van, HAUT PRIX, servante Int, Agence Rossel...\n",
      "KB_JB838_1970-08-14_01-00012.txt mentions these keywords: Mallory Park, Eddy Merckx, Van Springel, BELGE MERCKX, L’équipe belge, sans doute, Van Looy, Van Linden...\n",
      "KB_JB838_1970-08-15_01-00007.txt mentions these keywords: œuvres d’art, marché d’art, aveo Schubert, scientifique CHRONIQUE, Wieland Wagner, Société Artémis, CHRONIQUE MUSICALE, Weber s’inscrit, d’un million, noslteurs classlques-romantiques, constellation aveo, d’un marché...\n",
      "KB_JB838_1970-08-18_01-00004.txt mentions these keywords: INFORMA FIONS, FIONS GÉNÉRA, Vingt-neuf tués, som MARDI, lundi matin, jeune fille, CIRCULATION Vingt-neuf, Van Dooren, PETITE FILLE, dernière Vingt-neuf, blessés graves, dimanche soir...\n",
      "KB_JB838_1970-08-20_01-00001.txt mentions these keywords: JOURNAL QUOTIDIEN, BRUXELLES PARIS, Etats fédérés, Bruxelles s’est, AGENCE ROSS, mercredi soir, Paul-Henri Spaak...\n",
      "KB_JB838_1970-08-20_01-00030.txt mentions these keywords: SOIR JEUDI, EDITION PARUE, DERNIERE EDITION, film fantastique, cinéma fantastique, d’une situation, Keith Michell, and Clyde, Bonnie and, Sam Wanamaker, George Peppard, situations Wanamaker, Nelly Kaplan, d’une femme...\n",
      "KB_JB838_1970-08-26_01-00017.txt mentions these keywords: Wall Street, SOIR Bourse, accentué Wall, COURS COURS, Bruxelles MARDI, PRECOMPTE SNCB, Can Can, Fds Ries, TITRES COURS, vigoureusement accentué, Angola Ola, Ola Angola, Rand Mines, COURS PRECEO, l’Etat PRECOMPTE...\n",
      "KB_JB838_1970-08-27_01-00014.txt mentions these keywords: PEETERS Maître, tient lieu, avis tient, Grand Bazar, Madame Joseph, profonde douleur, faire part, Maître graveur, graveur Qu’une, Monsieur François, Madame Maurice, MADAME VEUVE, Bazar Nederland...\n",
      "KB_JB838_1970-08-30_01-00011.txt mentions these keywords: Van Herp, Van den, second but, Van Gool, but namurois, Van Damme, Van Hoof, Van Moer, Van Bree, UNION NAMUR, but fut, but inscrit, match fut, Van der...\n",
      "KB_JB838_1970-08-30_01-00029.txt mentions these keywords: the European, European division, and the, ensure the, throughout the, European controiler, the centre, for the, ORDINATEURS SIEMENS, SELECTION SPRL...\n",
      "KB_JB838_1970-09-04_01-00008.txt mentions these keywords: SOIR VENDREDI, vinyl rouge, collection Courrèges, Bouchât rue, poches plaquées, mode longue, Van Den, Den Bossche...\n",
      "KB_JB838_1970-09-06_01-00004.txt mentions these keywords: jeune homme, d’une fracture, collision s’est, grièvement blessé, voiture conduite, suites d’une, cours d’une, François Schoonjans, victime d’un, INFORMATIONS GÉNÉRALES, Albert Schoonjans, mardi Rixs, Panthères noires...\n",
      "KB_JB838_1970-09-12_01-00013.txt mentions these keywords: WOLUWE SAMEDI, Sixth Sense, Your Sixth, sobre élégance, Sixth Sense.Your, Sense.Your Sixth, visiblement supérieure, qualité visiblement, absolument parfaite, finition absolument, nombre limité, serez ravie...\n",
      "KB_JB838_1970-09-12_01-00028.txt mentions these keywords: curriculum vitae, l’Agence Rossel, som SAMEDI, Agence Rossel, Faire offre, PROJECTEUR DIA, Bruxelles Tél, Studio Patrick, préf. bilingue, vitae complet, BONNE DACTYLO, bonnes affaires, DIA ALFA...\n",
      "KB_JB838_1970-09-16_01-00019.txt mentions these keywords: MARCHE INTERNATIONAL, DOCUMENTAIRE lllllllllllllll, rendez-vous international, iiimiimim MARCHE, CINE-MEETING MILAN, MILAN 23-31, PRIX RESERVES, échelle mondiale, licences d’exportation, rue Van, Los Angeles...\n",
      "KB_JB838_1970-09-19_01-00011.txt mentions these keywords: départs suppl, viva Mexico, Rue Baron, septembre FILMS, Bibliothèque royale, place Rouppe, Baron Hor, rue Royale, départ supplémentaire, Van Hooveld, Louis Van, Rue Américaine, Départs d’Ostende, Parc Louis, rue Laport, Départ place...\n",
      "KB_JB838_1970-09-20_01-00032.txt mentions these keywords: avantages extra-légaux, Bruxelles Centre, IMPORTANTE SOCIETE, situation stable, curriculum vitae, service militaire, Faire offre, BRUXELLES DISCRETION, Age maximum...\n",
      "KB_JB838_1970-09-22_01-00026.txt mentions these keywords: Henri HARDY, MAÇONS CHARPENTIERS, CHARPENTIERS FERRAILLEURS, Bons salaires, FERRAILLEURS MANŒUVRES, rue Halin, Bon salaire, BON OUVRIER, Générales Henri, dames dem, Bruxelles engage, engage MANŒUVRES...\n",
      "KB_JB838_1970-09-27_01-00016.txt mentions these keywords: DIVISION III, BASKET DIVISION, Okapi Alost, Van Keer, Red Sox, jumviua BASKET, Van Huele, Black Boys, Van Kersschaever, Van Oekelen, Van den, Prix Sarny, Van Walle, Van Herzele, Van Esse, Van Haver, Van Assche...\n",
      "KB_JB838_1970-10-03_01-00023.txt mentions these keywords: Sacrifié Sacrifié, Tapis Tapis, Vis. tél, Carpette Tapis, SACRIFIES Carpette, bel app, Beau terrain, dim. env, PRIX SACRIFIES...\n",
      "KB_JB838_1970-10-07_01-00017.txt mentions these keywords: FINANCE MARCHÉS, Société Générale, l’assemblée générale, Société anonyme, société belge, SOIR ECONOMIE, générale extraordinaire, marché européen, tit. port, GENERAL ELECTRIC...\n",
      "KB_JB838_1970-10-08_01-00028.txt mentions these keywords: SOIR JEUDI, Elisabeth Brozowska, Brozowska ROBIN, Martin Fievre, Fievre anÆi, AUS L'OMSBG, TQÊVGK VIT, curriculum vitae, Bara ALCYON, Guy Bara, xws wfM, l'Agence Rossel, SOCIETE ANONYME, avenue Clemenceau, ANONYME BELGE, ENVOYÉES PIEU...\n",
      "KB_JB838_1970-10-08_01-00032.txt mentions these keywords: DEM. fem, AGENCE ROSSEL, sem Tél, Ecrire Agence, servante Int, dem ménage...\n",
      "KB_JB838_1970-10-09_01-00013.txt mentions these keywords: QUOTIDIEN VENDREDI, ENFANTS NES, L'HOROSCOPE QUOTIDIEN, SANTE Moyenne, SANTE Bonne, d’heureux mortels, octobre AFF, mai AFF, SANTE Instable, avril AFF, laine vierge, juillet AFF, août AFF, septembre AFF, vierge Woolmark, novembre AFF, février AFF, juin AFF, pure laine, BONNE CHANCE...\n",
      "KB_JB838_1970-10-10_01-00035.txt mentions these keywords: HANOMAG HENSCHEL, HENSCHEL HENSCHEL, HENSCHEL ENGINEERING, BRONDEEL S.fl, Brux. dem, HENSCHEL ETS, Bruxelles Tél, Uccle Tél, Dem. fem, THIRION dem...\n",
      "KB_JB838_1970-10-11_01-00007.txt mentions these keywords: Votes valabL, PSB PSC, PSC PLP, PLP PSB, PSC PSB, PSB PLP, Moscou PSB, PLP PSC, valabL PSB, PLP Moscou, PSB Moscou, com PSB, valabL PLP, com PSC, Partis Votes, valabL Votes, PSC Moscou, Partis Voix...\n",
      "KB_JB838_1970-10-11_01-00021.txt mentions these keywords: Vente publique, maison d’habitation, libre d’occupation, bonne maison, octobre GALERIE...\n",
      "KB_JB838_1970-10-11_01-00033.txt mentions these keywords: l’Agence Rossel, Agence Rossel, CURRICULUM VITAE, SOIR GROUPE, Ecrire Agence, IMPORTANTE SOCIETE, service militaire, Parfaitement Bilingue, INGENIEUR TECHNICIEN, Bruxelles SECRETAIRE, BRUXELLES PROMOTEUR...\n",
      "KB_JB838_1970-10-14_01-00016.txt mentions these keywords: ...\n",
      "KB_JB838_1970-10-14_01-00024.txt mentions these keywords: belle villa, Exclusivement Progime, Brux Tél, Waterloo Tél...\n",
      "KB_JB838_1970-10-14_01-00029.txt mentions these keywords: Dem. fem, Meubles dapsjàpaierie, Bons gages, Agence Rossel, Prêts personnels, Net rem, Jne fille, servante interne...\n",
      "KB_JB838_1970-10-15_01-00009.txt mentions these keywords: Théâtre royal, Louis XIV, Jean Larteguy, NOTES PARISIENNES, Grand théâtre, Marcel Lamy, Julos Beaucame, Robert Sabatier, cours internationaux, Cascais Pliil, Arnold Crouch...\n",
      "KB_JB838_1970-10-16_01-00031.txt mentions these keywords: BAZAR SUPERMARCHE, SUPER BAZAR, PRIX RECLAME, Jim tan., SUPERMARCHE GBl, SCOTLAND YARD, état tél...\n",
      "KB_JB838_1970-10-17_01-00011.txt mentions these keywords: places assises, dépêche datée, rue Baron, Miranda aurait, forme d'un, octobre ANVERS, vache-robot produit, forme d’un, estomac mécanique, vache mécanique, vaches mécaniques, Ingénieur chimiste, aurait voulu, d'un canapé...\n",
      "KB_JB838_1970-10-17_01-00032.txt mentions these keywords: AGENCE ROSSEL, l'Agence Rossel, curriculum vitae, IMPORTANTE SOCIETE, CRETONNE IMPRIMEE, BRUXELLES Tél, Faire offre, RUE NEUVE, mètre CROISE, offre manuscrite, CROISE MOLLETONNE, mètre GRAND, MAISON DOREE...\n",
      "KB_JB838_1970-10-25_01-00029.txt mentions these keywords: ÇÇfPIABLE Itinérant, Importante Fiduciaire, fige mâkimatu, l’Agence RosseL, Agence Rossel, IMPORTANTE SOCIETE, Faire offre, DESIRE ENGAGER, UNIVERSAL MEDIA, Bruxelles DEMANDE, SOIR gjugttÊUtJUUÆUuuÆtuÆMumumtittftuMumuummuuun, offre Agence, BON BILINGUE...\n",
      "KB_JB838_1970-10-28_01-00016.txt mentions these keywords: SOIR MERCREDI, Borg Acrilan, côté face, Côté pile, longs poils, monde chaleureux, Junior Hiver, Parce qu’il, mode Borg, mode Junior, SHOPPING CENTER, MAGASINS LIEGE, BON MARCHE, MARCHE RUE, RUE NEUVE, NEUVE WOLUWE, WOLUWE SHOPPING, COMMUNIQUANT DIRECTEMENT, plume parce...\n",
      "KB_JB838_1970-10-29_01-00007.txt mentions these keywords: GASTON MODOT, Max Guilmot, Prix Paul, Grand Prix, Jean-François Revel, Paul Moureau, d’une manière...\n",
      "KB_JB838_1970-11-08_01-00025.txt mentions these keywords: curriculum vitae, MONDIALE HUILES, GRAISSES AUTOMOBILE, SOCIETE MONDIALE, SOCIETE COMMERCIALE, Faire offre, INDUSTRIE recherche, l’Agence Rossel, BRUXELLES DESIRE, bonne connaissance, SOCIETE AMERICAINE...\n",
      "KB_JB838_1970-11-10_01-00006.txt mentions these keywords: tient lieu, Madame Georges, Madame René, avis tient, Royale Belge, Madame Jean, MADAME EMILE, Madame Veuve, Madame Lucien, Jacob Smits, MONSIEUR Marcel, Madame Pierre, Madame François...\n",
      "KB_JB838_1970-11-13_01-00004.txt mentions these keywords: GENERAL Iplii, président Nixon, président français, général Mobutu, président Pompidou, Gaulle Hong-kong, France libre, l’ancien président, président Mao, président Nasser, Gaulle fut, Gaulle Kinshasa, consulat général, Affaires étrangères...\n",
      "KB_JB838_1970-11-13_01-00012.txt mentions these keywords: SOIR VENDREDI, DENTS BLANCHES, Hubbard Ayer, idée d’Alexandre, l’Opération Dents, Haute Coiffure, lisse qu'adoucissent, tête lisse, petite tête, coiffure lisse, ondulation naturelle, Guy Laroche, COIFFURE BELGE, Blanches Macleans, cheveux courts...\n",
      "KB_JB838_1970-11-15_01-00033.txt mentions these keywords: Bruxelles demande, curriculum vitae, l’Agence Rossel, DACTYLO BILINGUE, IMPORTANTE SOCIETE, BRUXELLES engage, bonnes notions, SERVICES COMMERCIAUX...\n",
      "KB_JB838_1970-11-21_01-00029.txt mentions these keywords: l'Agence Rossel, curriculum vitae, Belgique cherche, RESPONSABLE ACHAT, Agence Rossel, généraliste media, pourvoir s'adresse, Ingénieur technicien, demande VENDEUSES, Bruxelles demande...\n",
      "KB_JB838_1970-11-25_01-00021.txt mentions these keywords: Ixetles Boendael, curriculum vitae, Lux. app, LOUISE App, l’Agence Rossel, Agence Rossel, Exclusivement PROGIME, Faire offre, Bruxelles DEMANDE, Quartier LOUISE, AVENUE LOUISE...\n",
      "KB_JB838_1970-11-28_01-00031.txt mentions these keywords: curriculum vitae, l’Agence Rossel, Porteurs permis, Chauffeurs-livreurs Porteurs, Ecrire curriculum, techniques internes, services techniques, Bruxelles EMPLOYE, contacts téléphoniques, parfait bilingue, PRINS ALBERTLEI, BRUXELLES TELEPHONE...\n",
      "KB_JB838_1970-11-29_01-00039.txt mentions these keywords: Tél. apr, HAUT PRIX, cse dép, prix sans, bon état, Opel Rek...\n",
      "KB_JB838_1970-12-03_01-00010.txt mentions these keywords: Michel Bouquet, Françoise Fabian, Grand film, Dernier film, Théo Sarapo, FILM EXCEPTIONNEL, Monsieur Tibbs, Michel Constantin, Enfants admis, Juliette Villard, Michel Sèrrault, SOIR JEUDI, Mercury Séances...\n",
      "KB_JB838_1970-12-05_01-00019.txt mentions these keywords: SOIR ECONOMIE, investissements étrangers, BANQUE NATIONALE, FONDS MERCATOR, Marché commun, NDITSTRIE Signification, fin septembre, marché alors, taux d’intérêt...\n",
      "KB_JB838_1970-12-06_01-00007.txt mentions these keywords: Pro Civitate, jeunes lauréats, s’intitule volontiers, rideau rouge, André Willequet, FAncienne Belgique, l’Ancienne Belgique, public assidu, Richard Strauss...\n",
      "KB_JB838_1970-12-06_01-00030.txt mentions these keywords: curriculum vitae, SOIR DIMANCHE, Service militaire, Instiiüt Sutesa, bonnes notions, ÇOURS FAR, FAR CORRESPONDANCE, BRUXELLES VENDEUSE, Département CQMPUTEBPROGRAMMINGÇOLLEQES, Bruxelles RECHERCHE, vitae détaillé, SYSTEME IBM...\n",
      "KB_JB838_1970-12-08_01-00012.txt mentions these keywords: Elisabeth Brozowska, BUCA PASSA, Guy Bara, GUN LÀW, Harry Bishop, ESTUN AFFÛT, CHASSE MOBILE, Sûti RAVISSEUR, APERCEVAIT L'OB, P’TIT JOC, RAVISSEUR véSAOÇOMé, MAX L’EXPLORATEUR, SANTE Bonne, véSAOÇOMé ROUl-A, SANTE Moyenne, conseillers communaux, monuments publics, Amnesty International...\n",
      "KB_JB838_1970-12-13_01-00001.txt mentions these keywords: Van Ryn, JOURNAL QUOTIDIEN, CHEQUES POSTAUX, BRUXELLES PARIS, samedi soir, Salut Public, POSTAUX PUBLICITE, Nations Unies, d’un Conseil, BRUXELLES REDACTION...\n",
      "KB_JB838_1970-12-19_01-00002.txt mentions these keywords: Conseil d’Etat, conseil national, Chambre adopte, services publics, VOIR DEBUT, SOIR SAMEDI, PREMIERE PAGE, Chambre procède, Robert Laffont...\n",
      "KB_JB838_1970-12-29_01-00011.txt mentions these keywords: Bernard Noël, récepteur couleurs, Musique originale, Mégère apprivoisée, Pierre Badel, Pierre Vernier, images couleurs...\n"
     ]
    }
   ],
   "source": [
    "# ici je vais juste créer une boucle pour parcourir tout les fichiers de 1970\n",
    "# pour chaque fichier je recupere le text, ensuite j'extrait les mots clés.\n",
    "# et puis j'affiche.\n",
    "\n",
    "for f in sorted(files):\n",
    "    \n",
    "    with open(os.path.join(data_path, f), 'r', encoding=\"utf-8\") as file:\n",
    "        text = file.read()\n",
    "    \n",
    "  \n",
    "    keywords = kw_extractor.extract_keywords(text)\n",
    "    \n",
    "    kept = [kw for kw, score in keywords if len(kw.split()) == 2]  \n",
    "    print(f\"{f} mentions these keywords: {', '.join(kept)}...\")"
   ]
  }
 ],
 "metadata": {
  "kernelspec": {
   "display_name": "Python 3.10.5 ('tac_venv': venv)",
   "language": "python",
   "name": "python3"
  },
  "language_info": {
   "codemirror_mode": {
    "name": "ipython",
    "version": 3
   },
   "file_extension": ".py",
   "mimetype": "text/x-python",
   "name": "python",
   "nbconvert_exporter": "python",
   "pygments_lexer": "ipython3",
   "version": "3.11.7"
  },
  "vscode": {
   "interpreter": {
    "hash": "b1932ab1d169b4769d1550e799423b6477588e745f266d79d9004c136c81607e"
   }
  }
 },
 "nbformat": 4,
 "nbformat_minor": 4
}
