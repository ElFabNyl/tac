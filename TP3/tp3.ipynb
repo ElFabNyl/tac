{
 "cells": [
  {
   "cell_type": "markdown",
   "metadata": {},
   "source": [
    "# TP3 — Clustering & Word Embeddings    SECONDE SESSION\n",
    "# Etudiant : Lamblin Ngueyap\n",
    "\n"
   ]
  },
  {
   "cell_type": "markdown",
   "metadata": {},
   "source": [
    "## Q1 — Choix de la décennie & détection des données\n",
    "Paramètre de décennie et détection automatique du dossier contenant les `.txt` de la période (ex. 1890–1899)."
   ]
  },
  {
   "cell_type": "code",
   "execution_count": 1,
   "metadata": {
    "name": "Q1_detect_data"
   },
   "outputs": [
    {
     "name": "stdout",
     "output_type": "stream",
     "text": [
      "Dossier détecté: tac/data/txt\n",
      "Documents chargés : 900 fichiers — exemple: ['KB_JB838_1890-01-05_01-00004.txt', 'KB_JB838_1890-01-06_01-00003.txt', 'KB_JB838_1890-01-08_01-00003.txt', 'KB_JB838_1890-01-09_01-00003.txt', 'KB_JB838_1890-01-12_01-00004.txt']\n"
     ]
    }
   ],
   "source": [
    "\n",
    "\n",
    "import os, re\n",
    "from pathlib import Path\n",
    "\n",
    "DECADE = \"1890\"\n",
    "DECADE_PREFIX = DECADE[:-1]  # '189' pour 1890–1899\n",
    "year_pattern = re.compile(rf\"(?<!\\d){DECADE_PREFIX}\\d(?!\\d)\")\n",
    "\n",
    "def find_data_dir():\n",
    "    candidates = [\n",
    "        Path('../data/txt'), Path('./data/txt'), Path('data/txt'),\n",
    "        Path('../txt'), Path('./txt'), Path('txt'),\n",
    "        Path('../data/corpus'), Path('./data/corpus'), Path('data/corpus')\n",
    "    ]\n",
    "    for p in candidates:\n",
    "        if p.exists() and p.is_dir():\n",
    "            decade_files = [x for x in p.iterdir()\n",
    "                            if x.suffix.lower()=='.txt' and year_pattern.search(x.name)]\n",
    "            if decade_files:\n",
    "                return p\n",
    "    # Fallback: scan limité\n",
    "    from collections import Counter\n",
    "    parents = []\n",
    "    for root in [Path('.'), Path('..')]:\n",
    "        for x in root.rglob('*.txt'):\n",
    "            if year_pattern.search(x.name):\n",
    "                parents.append(x.parent)\n",
    "    if parents:\n",
    "        return Counter(parents).most_common(1)[0][0]\n",
    "    return None\n",
    "\n",
    "data_dir = find_data_dir()\n",
    "if data_dir is None:\n",
    "    raise FileNotFoundError(\"Dossier des textes introuvable. Renseigne `data_dir = Path('/chemin/vers/txt')`.\")\n",
    "print(\"Dossier détecté:\", data_dir)\n",
    "\n",
    "files_paths = sorted([p for p in data_dir.iterdir()\n",
    "                      if p.suffix.lower()=='.txt' and year_pattern.search(p.name)])\n",
    "assert files_paths, \"Aucun .txt 1890–1899 détecté.\"\n",
    "files = [p.name for p in files_paths]\n",
    "texts = [p.read_text(encoding='utf-8') for p in files_paths]\n",
    "\n",
    "print(f\"Documents chargés : {len(files)} fichiers — exemple:\", files[:5])\n"
   ]
  },
  {
   "cell_type": "markdown",
   "metadata": {},
   "source": [
    "## Q2 — Clustering des documents (TF‑IDF + K‑means)\n",
    "Vectorisation TF‑IDF en français, sélection de **k** (silhouette/CH/inertie), apprentissage final, **top termes** et échantillons de fichiers par cluster."
   ]
  },
  {
   "cell_type": "code",
   "execution_count": 2,
   "metadata": {
    "name": "Q2_tfidf"
   },
   "outputs": [
    {
     "name": "stderr",
     "output_type": "stream",
     "text": [
      "/Users/elfabnyl/Documents/STIC/tac_venv/lib/python3.11/site-packages/sklearn/feature_extraction/text.py:406: UserWarning: Your stop_words may be inconsistent with your preprocessing. Tokenizing the stop words generated tokens ['etaient', 'etais', 'etait', 'etant', 'etante', 'etantes', 'etants', 'ete', 'etee', 'etees', 'etes', 'etiez', 'etions', 'eumes', 'eutes', 'fumes', 'futes', 'meme'] not in stop_words.\n",
      "  warnings.warn(\n"
     ]
    },
    {
     "data": {
      "text/plain": [
       "<900x321843 sparse matrix of type '<class 'numpy.float64'>'\n",
       "\twith 2523343 stored elements in Compressed Sparse Row format>"
      ]
     },
     "execution_count": 2,
     "metadata": {},
     "output_type": "execute_result"
    }
   ],
   "source": [
    "\n",
    "# Vectorisation TF-IDF\n",
    "import nltk\n",
    "nltk.download('stopwords', quiet=True)\n",
    "from nltk.corpus import stopwords\n",
    "from sklearn.feature_extraction.text import TfidfVectorizer\n",
    "\n",
    "french_stop = stopwords.words('french')\n",
    "\n",
    "vectorizer = TfidfVectorizer(\n",
    "    strip_accents='unicode',\n",
    "    lowercase=True,\n",
    "    stop_words=french_stop,\n",
    "    ngram_range=(1, 2),\n",
    "    min_df=2,\n",
    "    max_df=0.6,\n",
    "    norm='l2'\n",
    ")\n",
    "\n",
    "tfidf = vectorizer.fit_transform(texts)\n",
    "tfidf\n"
   ]
  },
  {
   "cell_type": "code",
   "execution_count": 3,
   "metadata": {
    "name": "Q2_select_k"
   },
   "outputs": [
    {
     "data": {
      "text/html": [
       "<div>\n",
       "<style scoped>\n",
       "    .dataframe tbody tr th:only-of-type {\n",
       "        vertical-align: middle;\n",
       "    }\n",
       "\n",
       "    .dataframe tbody tr th {\n",
       "        vertical-align: top;\n",
       "    }\n",
       "\n",
       "    .dataframe thead th {\n",
       "        text-align: right;\n",
       "    }\n",
       "</style>\n",
       "<table border=\"1\" class=\"dataframe\">\n",
       "  <thead>\n",
       "    <tr style=\"text-align: right;\">\n",
       "      <th></th>\n",
       "      <th>k</th>\n",
       "      <th>silhouette</th>\n",
       "      <th>calinski_harabasz</th>\n",
       "      <th>inertia</th>\n",
       "    </tr>\n",
       "  </thead>\n",
       "  <tbody>\n",
       "    <tr>\n",
       "      <th>0</th>\n",
       "      <td>4</td>\n",
       "      <td>0.051022</td>\n",
       "      <td>30.140916</td>\n",
       "      <td>767.905846</td>\n",
       "    </tr>\n",
       "    <tr>\n",
       "      <th>3</th>\n",
       "      <td>7</td>\n",
       "      <td>0.042841</td>\n",
       "      <td>17.500495</td>\n",
       "      <td>756.454250</td>\n",
       "    </tr>\n",
       "    <tr>\n",
       "      <th>1</th>\n",
       "      <td>5</td>\n",
       "      <td>0.038391</td>\n",
       "      <td>24.108686</td>\n",
       "      <td>763.171150</td>\n",
       "    </tr>\n",
       "    <tr>\n",
       "      <th>7</th>\n",
       "      <td>11</td>\n",
       "      <td>0.015208</td>\n",
       "      <td>11.409205</td>\n",
       "      <td>749.245282</td>\n",
       "    </tr>\n",
       "    <tr>\n",
       "      <th>2</th>\n",
       "      <td>6</td>\n",
       "      <td>0.011240</td>\n",
       "      <td>20.270477</td>\n",
       "      <td>759.318011</td>\n",
       "    </tr>\n",
       "  </tbody>\n",
       "</table>\n",
       "</div>"
      ],
      "text/plain": [
       "    k  silhouette  calinski_harabasz     inertia\n",
       "0   4    0.051022          30.140916  767.905846\n",
       "3   7    0.042841          17.500495  756.454250\n",
       "1   5    0.038391          24.108686  763.171150\n",
       "7  11    0.015208          11.409205  749.245282\n",
       "2   6    0.011240          20.270477  759.318011"
      ]
     },
     "metadata": {},
     "output_type": "display_data"
    },
    {
     "name": "stdout",
     "output_type": "stream",
     "text": [
      "k retenu (max silhouette → tie-break CH): 4\n"
     ]
    }
   ],
   "source": [
    "\n",
    "# Sélection de k\n",
    "import pandas as pd\n",
    "from sklearn.cluster import KMeans\n",
    "from sklearn.metrics import silhouette_score, calinski_harabasz_score\n",
    "\n",
    "def evaluate_k(X, ks=range(4, 13), random_state=42):\n",
    "    rows=[]\n",
    "    for k in ks:\n",
    "        km = KMeans(n_clusters=k, n_init=10, random_state=random_state)\n",
    "        labels = km.fit_predict(X)\n",
    "        sil = silhouette_score(X, labels, metric='euclidean')\n",
    "        try:\n",
    "            ch = calinski_harabasz_score(X, labels)\n",
    "        except Exception:\n",
    "            ch = calinski_harabasz_score(X.toarray(), labels)\n",
    "        rows.append((k, sil, ch, km.inertia_))\n",
    "    return pd.DataFrame(rows, columns=['k','silhouette','calinski_harabasz','inertia'])\n",
    "\n",
    "k_eval = evaluate_k(tfidf)\n",
    "display(k_eval.sort_values('silhouette', ascending=False).head())\n",
    "best_k = int(k_eval.sort_values(['silhouette','calinski_harabasz'], ascending=False).iloc[0]['k'])\n",
    "print(\"k retenu (max silhouette → tie-break CH):\", best_k)\n"
   ]
  },
  {
   "cell_type": "code",
   "execution_count": 4,
   "metadata": {
    "name": "Q2_fit_interpret"
   },
   "outputs": [
    {
     "name": "stdout",
     "output_type": "stream",
     "text": [
      "Top termes par cluster (12):\n",
      "\n",
      "Cluster 0:\n",
      "dem, pl, ag, tout faire, ad, louer, ec, cuis, sach, rossel, ag rossel, dem pl\n",
      "\n",
      "Cluster 1:\n",
      "quo, uno, gouvernement, ligne, etaient, ot, question, faits, quelque, ministre, yeux, roi\n",
      "\n",
      "Cluster 2:\n",
      "louer, actions, ag, vendre, id, ad, ch, ec, av, dem, rossel, pr\n",
      "\n",
      "Cluster 3:\n",
      "notaire, contenant, notaires, ares, louee, centiares, encheres, etude, rentier, portee, paumer, maison rentier\n",
      "\n",
      "Exemples de fichiers par cluster (jusqu'à 5):\n",
      "\n",
      "Cluster 0:\n",
      " - KB_JB838_1890-01-29_01-00004.txt\n",
      " - KB_JB838_1890-02-05_01-00008.txt\n",
      " - KB_JB838_1890-02-16_01-00004.txt\n",
      " - KB_JB838_1890-04-01_01-00004.txt\n",
      " - KB_JB838_1890-05-11_01-00003.txt\n",
      "\n",
      "Cluster 1:\n",
      " - KB_JB838_1890-01-15_01-00001.txt\n",
      " - KB_JB838_1890-01-16_01-00002.txt\n",
      " - KB_JB838_1890-01-20_01-00001.txt\n",
      " - KB_JB838_1890-01-25_01-00001.txt\n",
      " - KB_JB838_1890-01-27_01-00002.txt\n",
      "\n",
      "Cluster 2:\n",
      " - KB_JB838_1890-01-08_01-00003.txt\n",
      " - KB_JB838_1890-01-09_01-00003.txt\n",
      " - KB_JB838_1890-01-24_01-00003.txt\n",
      " - KB_JB838_1890-03-09_01-00007.txt\n",
      " - KB_JB838_1890-04-05_01-00003.txt\n",
      "\n",
      "Cluster 3:\n",
      " - KB_JB838_1890-01-05_01-00004.txt\n",
      " - KB_JB838_1890-01-06_01-00003.txt\n",
      " - KB_JB838_1890-01-12_01-00004.txt\n",
      " - KB_JB838_1890-02-02_01-00004.txt\n",
      " - KB_JB838_1890-02-23_01-00003.txt\n"
     ]
    }
   ],
   "source": [
    "\n",
    "# K-means final + top termes + exemples\n",
    "from collections import defaultdict\n",
    "import numpy as np\n",
    "\n",
    "km = KMeans(n_clusters=best_k, n_init=10, random_state=42).fit(tfidf)\n",
    "labels = km.labels_\n",
    "\n",
    "terms = vectorizer.get_feature_names_out()\n",
    "order = km.cluster_centers_.argsort()[:, ::-1]\n",
    "topn = 12\n",
    "top_terms = {i: [terms[j] for j in order[i, :topn]] for i in range(best_k)}\n",
    "\n",
    "print(\"Top termes par cluster (12):\")\n",
    "for cl, t in top_terms.items():\n",
    "    print(f\"\\nCluster {cl}:\\n\" + \", \".join(t))\n",
    "\n",
    "cluster_docs = defaultdict(list)\n",
    "for i, lab in enumerate(labels):\n",
    "    cluster_docs[lab].append(files[i])\n",
    "print(\"\\nExemples de fichiers par cluster (jusqu'à 5):\")\n",
    "for cl in sorted(cluster_docs):\n",
    "    print(f\"\\nCluster {cl}:\")\n",
    "    for d in cluster_docs[cl][:5]:\n",
    "        print(\" -\", d)\n"
   ]
  },
  {
   "cell_type": "code",
   "execution_count": 5,
   "metadata": {
    "name": "Q2_plot"
   },
   "outputs": [
    {
     "data": {
      "image/png": "[encoded data removed]",
      "text/plain": [
       "<Figure size 800x700 with 1 Axes>"
      ]
     },
     "metadata": {},
     "output_type": "display_data"
    }
   ],
   "source": [
    "\n",
    "# Visualisation 2D (SVD sur TF-IDF creux)\n",
    "from sklearn.decomposition import TruncatedSVD\n",
    "import matplotlib.pyplot as plt\n",
    "\n",
    "svd = TruncatedSVD(n_components=2, random_state=42)\n",
    "reduced = svd.fit_transform(tfidf)\n",
    "\n",
    "plt.figure(figsize=(8, 7))\n",
    "plt.scatter(reduced[:,0], reduced[:,1], c=labels, s=30)\n",
    "centroids_2d = km.cluster_centers_.dot(svd.components_.T)\n",
    "plt.scatter(centroids_2d[:,0], centroids_2d[:,1], marker=\"x\", s=100)\n",
    "plt.title(f\"K-means sur {DECADE_PREFIX}0–{DECADE_PREFIX}9 (k={best_k})\")\n",
    "plt.xlabel(\"SVD-1\"); plt.ylabel(\"SVD-2\")\n",
    "plt.show()\n"
   ]
  },
  {
   "cell_type": "markdown",
   "metadata": {},
   "source": [
    "## Q3 — Interprétation des clusters (à compléter après exécution)\n",
    "- Pour chaque cluster, commente **thème/auteurs/genre** à partir des *top termes* et des exemples de fichiers.\n",
    "- Indique si certains clusters sont trop généraux/spécifiques et ce que changerait un autre `k`.\n",
    "\n",
    "> **Notes rapides** (à remplir) :\n",
    "- Cluster 0 → …\n",
    "- Cluster 1 → …\n",
    "- …"
   ]
  },
  {
   "cell_type": "markdown",
   "metadata": {},
   "source": [
    "## Q4 — Préparation des données `sents.txt`\n"
   ]
  },
  {
   "cell_type": "code",
   "execution_count": 13,
   "metadata": {
    "name": "Q4_sents_locate"
   },
   "outputs": [
    {
     "name": "stdout",
     "output_type": "stream",
     "text": [
      "sents.txt: tac/data/sents.txt\n"
     ]
    }
   ],
   "source": [
    "\n",
    "from pathlib import Path\n",
    "\n",
    "def find_sents_file():\n",
    "    \n",
    "    candidates = [\n",
    "        Path('data/sents.txt'),\n",
    "        Path('./data/sents.txt'),\n",
    "        Path('../data/sents.txt')\n",
    "    ]\n",
    "    for p in candidates:\n",
    "        if p.is_file():\n",
    "            return p\n",
    "\n",
    "    \n",
    "    for root in (Path('.'), Path('..')):\n",
    "        for x in root.rglob('sents.txt'):\n",
    "            if x.is_file() and x.name == 'sents.txt':\n",
    "                return x\n",
    "\n",
    "    return None\n",
    "\n",
    "sents_path = find_sents_file()\n",
    "if sents_path is None:\n",
    "    raise FileNotFoundError(\n",
    "        \"`sents.txt` introuvable. Place-le dans `data/` (ex: data/sents.txt) \"\n",
    "        \"ou renseigne manuellement : sents_path = Path('/chemin/vers/sents.txt')\"\n",
    "    )\n",
    "print(\"sents.txt:\", sents_path)\n"
   ]
  },
  {
   "cell_type": "markdown",
   "metadata": {},
   "source": [
    "## Q5 — Entraînement Word2Vec (variations de `window` et `min_count`)\n",
    "Entraîne plusieurs modèles Word2Vec sur `sents.txt` en faisant varier `window` et `min_count`. Les autres hyperparamètres sont fixés pour la reproductibilité."
   ]
  },
  {
   "cell_type": "code",
   "execution_count": 9,
   "metadata": {
    "name": "Q5_train_models"
   },
   "outputs": [
    {
     "name": "stdout",
     "output_type": "stream",
     "text": [
      "Training w2_mc2\n",
      "Training w2_mc5\n",
      "Training w5_mc2\n",
      "Training w5_mc5\n",
      "Training w8_mc2\n",
      "Training w8_mc5\n",
      "Nombre de modèles entraînés: 6\n"
     ]
    }
   ],
   "source": [
    "import re, unicodedata, random\n",
    "from gensim.models import Word2Vec\n",
    "from gensim.utils import simple_preprocess\n",
    "\n",
    "random_seed = 42\n",
    "\n",
    "def normalize_text(s):\n",
    "    s = unicodedata.normalize('NFKD', s)\n",
    "    s = \"\".join(ch for ch in s if not unicodedata.combining(ch))\n",
    "    return s\n",
    "\n",
    "class ReiterSentences:\n",
    "    \"\"\"Itérable ré-entrant: chaque appel à __iter__ rouvre le fichier.\n",
    "       Compatible avec epochs > 1 pour Gensim.\"\"\"\n",
    "    def __init__(self, path):\n",
    "        self.path = str(path)\n",
    "    def __iter__(self):\n",
    "        with open(self.path, \"r\", encoding=\"utf-8\") as f:\n",
    "            for line in f:\n",
    "                line = normalize_text(line.strip().lower())\n",
    "                if not line:\n",
    "                    continue\n",
    "                \n",
    "                yield simple_preprocess(line)\n",
    "\n",
    "corpus = ReiterSentences(sents_path)\n",
    "\n",
    "# Grille d'hyperparamètres à tester (exigences du TP: varier window & min_count)\n",
    "grids = {\"window\": [2, 5, 8], \"min_count\": [2, 5]}\n",
    "# Hyperparamètres fixes pour reproductibilité (workers=1 pour résultats stables)\n",
    "fixed = dict(vector_size=100, sg=1, negative=10, workers=1, seed=random_seed, epochs=5)\n",
    "\n",
    "models = {}\n",
    "for w in grids[\"window\"]:\n",
    "    for mc in grids[\"min_count\"]:\n",
    "        tag = f\"w{w}_mc{mc}\"\n",
    "        print(\"Training\", tag)\n",
    "        model = Word2Vec(sentences=corpus, window=w, min_count=mc, **fixed)\n",
    "        models[tag] = model\n",
    "\n",
    "print(\"Nombre de modèles entraînés:\", len(models))"
   ]
  },
  {
   "cell_type": "markdown",
   "metadata": {},
   "source": [
    "## Q6 — Comparaison et choix du meilleur modèle\n",
    "On compare les modèles selon des **heuristiques** simples : taille du vocabulaire, couverture sur des mots fréquents et moyenne des similarités des *top‑N* voisins pour des ancres. Le meilleur est choisi en priorité par la **stabilité des voisins** puis par la **couverture**."
   ]
  },
  {
   "cell_type": "code",
   "execution_count": 10,
   "metadata": {
    "name": "Q6_compare_choose"
   },
   "outputs": [
    {
     "name": "stdout",
     "output_type": "stream",
     "text": [
      "Ancres: ['rue', 'est', 'dem', 'avec', 'tout', 'mais', 'son', 'elle', 'faire', 'vous', 'bruxelles', 'nous']\n",
      "Classement (top 3):\n",
      "w5_mc2 → stability=0.797, coverage=1.00, vocab=163129\n",
      "w8_mc2 → stability=0.797, coverage=1.00, vocab=163129\n",
      "w2_mc2 → stability=0.785, coverage=1.00, vocab=163129\n",
      "\n",
      "➡️ Modèle retenu: w5_mc2\n"
     ]
    }
   ],
   "source": [
    "\n",
    "from collections import Counter\n",
    "import numpy as np\n",
    "\n",
    "# Sélection d'ancres : top mots fréquents (hors stopwords basiques)\n",
    "basic_stop = set(\"le la les de des du un une et en que qui dans au aux pour par sur plus ne pas\".split())\n",
    "\n",
    "def top_anchor_words(path, k=12):\n",
    "    cnt = Counter()\n",
    "    for toks in iter_sentences(path):\n",
    "        cnt.update(t for t in toks if t not in basic_stop)\n",
    "    anchors = [w for w,_ in cnt.most_common(60) if len(w)>=3][:k]\n",
    "    return anchors\n",
    "\n",
    "anchors = top_anchor_words(sents_path, k=12)\n",
    "print(\"Ancres:\", anchors)\n",
    "\n",
    "def model_summary(tag, model, anchors, topn=10):\n",
    "    vocab_size = len(model.wv)\n",
    "    coverage = sum(1 for a in anchors if a in model.wv) / len(anchors)\n",
    "    sims = []\n",
    "    neighbors = {}\n",
    "    for a in anchors:\n",
    "        if a in model.wv:\n",
    "            top = model.wv.most_similar(a, topn=topn)\n",
    "            neighbors[a] = top\n",
    "            if top:\n",
    "                sims.append(np.mean([s for _,s in top]))\n",
    "    stability = float(np.mean(sims)) if sims else 0.0\n",
    "    return dict(tag=tag, vocab=vocab_size, coverage=coverage, stability=stability, neighbors=neighbors)\n",
    "\n",
    "summaries = [model_summary(tag, m, anchors) for tag, m in models.items()]\n",
    "ranked = sorted(summaries, key=lambda d:(d[\"stability\"], d[\"coverage\"], d[\"vocab\"]), reverse=True)\n",
    "best = ranked[0]\n",
    "print(\"Classement (top 3):\")\n",
    "for r in ranked[:3]:\n",
    "    print(r[\"tag\"], \"→\", f\"stability={r['stability']:.3f}, coverage={r['coverage']:.2f}, vocab={r['vocab']}\")\n",
    "best_tag = best[\"tag\"]\n",
    "print(\"\\n➡️ Modèle retenu:\", best_tag)\n"
   ]
  },
  {
   "cell_type": "markdown",
   "metadata": {},
   "source": [
    "## Q7 — Explorations `similarity` et `most_similar`\n",
    "Exemples d’analyses sur le **modèle retenu**. Modifie `queries_most_similar` et `pairs_similarity` selon tes besoins."
   ]
  },
  {
   "cell_type": "code",
   "execution_count": 11,
   "metadata": {
    "name": "Q7_explore"
   },
   "outputs": [
    {
     "name": "stdout",
     "output_type": "stream",
     "text": [
      "Most similar (quelques requêtes):\n",
      "\n",
      "[rue]\n",
      " -             ruo : 0.976\n",
      " -             rne : 0.921\n",
      " -             rua : 0.920\n",
      " -            riie : 0.903\n",
      " -             rae : 0.895\n",
      " -             ruc : 0.892\n",
      " -            rite : 0.873\n",
      " -            rtie : 0.863\n",
      " -              ru : 0.862\n",
      " -             nie : 0.853\n",
      "\n",
      "[est]\n",
      " -             ost : 0.880\n",
      " -             esl : 0.848\n",
      " -           etait : 0.845\n",
      " -          serait : 0.841\n",
      " -             osl : 0.827\n",
      " -           elait : 0.826\n",
      " -             csl : 0.823\n",
      " -             cst : 0.820\n",
      " -           etalt : 0.801\n",
      " -            cest : 0.791\n",
      "\n",
      "[dem]\n",
      " -             dcm : 0.960\n",
      " -            dera : 0.920\n",
      " -            deni : 0.919\n",
      " -            dein : 0.916\n",
      " -            detn : 0.874\n",
      " -            ndem : 0.835\n",
      " -         demande : 0.804\n",
      " -             oem : 0.800\n",
      " -         domande : 0.791\n",
      " -             uem : 0.791\n",
      "\n",
      "[avec]\n",
      " -            aveo : 0.888\n",
      " -            avee : 0.835\n",
      " -            ayec : 0.786\n",
      " -             vec : 0.785\n",
      " -            arec : 0.748\n",
      " -            avoc : 0.737\n",
      " -            avoo : 0.723\n",
      " -            ayee : 0.701\n",
      " -            avcc : 0.700\n",
      " -            ivec : 0.692\n",
      "\n",
      "[tout]\n",
      " -            fout : 0.801\n",
      " -            tput : 0.783\n",
      " -           lotit : 0.772\n",
      " -            tont : 0.762\n",
      " -           toiit : 0.746\n",
      " -            toul : 0.739\n",
      " -            lout : 0.739\n",
      " -            tbut : 0.736\n",
      " -            toui : 0.729\n",
      " -           atout : 0.728\n",
      "\n",
      "[mais]\n",
      " -           niais : 0.886\n",
      " -            mats : 0.786\n",
      " -            majs : 0.777\n",
      " -             car : 0.770\n",
      " -            muis : 0.770\n",
      " -            maia : 0.750\n",
      " -           ruais : 0.744\n",
      " -           ihais : 0.742\n",
      " -            mnls : 0.728\n",
      " -           imais : 0.720\n",
      "\n",
      "Similarity (quelques paires):\n",
      "(amour, haine) = 0.439\n",
      "(roi, reine) = 0.715\n",
      "(france, paris) = 0.666\n"
     ]
    }
   ],
   "source": [
    "\n",
    "model = models[best_tag]\n",
    "queries_most_similar = anchors[:6]  \n",
    "pairs_similarity = [\n",
    "    (\"amour\",\"haine\"),\n",
    "    (\"roi\",\"reine\"),\n",
    "    (\"france\",\"paris\")\n",
    "]\n",
    "\n",
    "print(\"Most similar (quelques requêtes):\")\n",
    "for q in queries_most_similar:\n",
    "    if q in model.wv:\n",
    "        print(f\"\\n[{q}]\")\n",
    "        for w,s in model.wv.most_similar(q, topn=10):\n",
    "            print(f\" - {w:>15} : {s:.3f}\")\n",
    "    else:\n",
    "        print(f\"\\n[{q}] — hors vocabulaire\")\n",
    "\n",
    "print(\"\\nSimilarity (quelques paires):\")\n",
    "for a,b in pairs_similarity:\n",
    "    if a in model.wv and b in model.wv:\n",
    "        sim = model.wv.similarity(a,b)\n",
    "        print(f\"({a}, {b}) = {sim:.3f}\")\n",
    "    else:\n",
    "        print(f\"({a}, {b}) — hors vocabulaire\")\n"
   ]
  },
  {
   "cell_type": "markdown",
   "metadata": {},
   "source": [
    "## Q8 — Centralisation & sauvegardes des résultats\n",
    "Export des tableaux/figures utiles pour le rapport."
   ]
  },
  {
   "cell_type": "code",
   "execution_count": 12,
   "metadata": {
    "name": "Q8_exports"
   },
   "outputs": [
    {
     "name": "stdout",
     "output_type": "stream",
     "text": [
      "Export: tp3_outputs/k_eval.csv\n",
      "Export: tp3_outputs/top_terms.csv\n",
      "Export: tp3_outputs/word2vec_w5_mc2.model\n"
     ]
    }
   ],
   "source": [
    "\n",
    "import pandas as pd\n",
    "from pathlib import Path\n",
    "\n",
    "outdir = Path(\"tp3_outputs\")\n",
    "outdir.mkdir(exist_ok=True)\n",
    "\n",
    "# k_eval\n",
    "k_eval_path = outdir / \"k_eval.csv\"\n",
    "k_eval.to_csv(k_eval_path, index=False)\n",
    "print(\"Export:\", k_eval_path)\n",
    "\n",
    "# Top termes\n",
    "top_terms_rows = []\n",
    "for cl, terms in top_terms.items():\n",
    "    for rank, term in enumerate(terms, start=1):\n",
    "        top_terms_rows.append(dict(cluster=cl, rank=rank, term=term))\n",
    "pd.DataFrame(top_terms_rows).to_csv(outdir / \"top_terms.csv\", index=False)\n",
    "print(\"Export:\", outdir / \"top_terms.csv\")\n",
    "\n",
    "# Sauvegarde du modèle W2V retenu\n",
    "w2v_path = outdir / f\"word2vec_{best_tag}.model\"\n",
    "model.save(str(w2v_path))\n",
    "print(\"Export:\", w2v_path)\n"
   ]
  },
  {
   "cell_type": "markdown",
   "metadata": {},
   "source": [
    "\n"
   ]
  }
 ],
 "metadata": {
  "authors": [
   {
    "name": "TP3 Assistant (NLP)"
   }
  ],
  "kernelspec": {
   "display_name": "Python 3",
   "language": "python",
   "name": "python3"
  },
  "language_info": {
   "codemirror_mode": {
    "name": "ipython",
    "version": 3
   },
   "file_extension": ".py",
   "mimetype": "text/x-python",
   "name": "python",
   "nbconvert_exporter": "python",
   "pygments_lexer": "ipython3",
   "version": "3.11.7"
  },
  "tp3_generated_at": "2025-08-13T21:57:38.149451Z"
 },
 "nbformat": 4,
 "nbformat_minor": 5
}
