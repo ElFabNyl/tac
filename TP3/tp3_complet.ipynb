{
 "cells": [
  {
   "cell_type": "markdown",
   "metadata": {},
   "source": [
    "#  TP3_Clustering_et_Word2Vec"
   ]
  },
  {
   "cell_type": "markdown",
   "metadata": {},
   "source": [
    "### Lamblin Ngueyap "
   ]
  },
  {
   "cell_type": "markdown",
   "metadata": {},
   "source": [
    "## Imports"
   ]
  },
  {
   "cell_type": "code",
   "execution_count": 1,
   "metadata": {},
   "outputs": [],
   "source": [
    "import collections\n",
    "import os\n",
    "import string\n",
    "import sys\n",
    "\n",
    "import pandas as pd\n",
    "from nltk import word_tokenize\n",
    "from nltk.corpus import stopwords\n",
    "from pprint import pprint\n",
    "from sklearn.cluster import KMeans\n",
    "from sklearn.feature_extraction.text import TfidfVectorizer\n",
    "from sklearn.decomposition import PCA\n",
    "import numpy as np\n",
    "import matplotlib.pyplot as plt\n",
    "from scipy.spatial.distance import cosine"
   ]
  },
  {
   "cell_type": "code",
   "execution_count": 2,
   "metadata": {},
   "outputs": [
    {
     "name": "stderr",
     "output_type": "stream",
     "text": [
      "[nltk_data] Downloading package punkt to /Users/elfabnyl/nltk_data...\n",
      "[nltk_data]   Package punkt is already up-to-date!\n",
      "[nltk_data] Downloading package punkt_tab to\n",
      "[nltk_data]     /Users/elfabnyl/nltk_data...\n",
      "[nltk_data]   Package punkt_tab is already up-to-date!\n"
     ]
    },
    {
     "data": {
      "text/plain": [
       "True"
      ]
     },
     "execution_count": 2,
     "metadata": {},
     "output_type": "execute_result"
    }
   ],
   "source": [
    "import nltk\n",
    "\n",
    "nltk.download('punkt')\n",
    "nltk.download(\"punkt_tab\")"
   ]
  },
  {
   "cell_type": "code",
   "execution_count": 3,
   "metadata": {},
   "outputs": [],
   "source": [
    "data_path = \"../data/txt/\""
   ]
  },
  {
   "cell_type": "markdown",
   "metadata": {},
   "source": [
    "## Choisir une décennie"
   ]
  },
  {
   "cell_type": "code",
   "execution_count": 4,
   "metadata": {},
   "outputs": [],
   "source": [
    "DECADE = '1890'"
   ]
  },
  {
   "cell_type": "markdown",
   "metadata": {},
   "source": [
    "## Charger tous les  fichiers de la décennie et en créer une liste de textes"
   ]
  },
  {
   "cell_type": "code",
   "execution_count": 5,
   "metadata": {},
   "outputs": [],
   "source": [
    "files = [f for f in sorted(os.listdir(data_path)) if f\"_{DECADE[:-1]}\" in f]"
   ]
  },
  {
   "cell_type": "code",
   "execution_count": 6,
   "metadata": {},
   "outputs": [
    {
     "data": {
      "text/plain": [
       "['KB_JB838_1890-01-05_01-00004.txt',\n",
       " 'KB_JB838_1890-01-06_01-00003.txt',\n",
       " 'KB_JB838_1890-01-08_01-00003.txt',\n",
       " 'KB_JB838_1890-01-09_01-00003.txt',\n",
       " 'KB_JB838_1890-01-12_01-00004.txt']"
      ]
     },
     "execution_count": 6,
     "metadata": {},
     "output_type": "execute_result"
    }
   ],
   "source": [
    "# Exemple de fichiers\n",
    "files[:5]"
   ]
  },
  {
   "cell_type": "code",
   "execution_count": 7,
   "metadata": {},
   "outputs": [],
   "source": [
    "texts = [open(data_path + f, \"r\", encoding=\"utf-8\").read() for f in files]"
   ]
  },
  {
   "cell_type": "code",
   "execution_count": 8,
   "metadata": {},
   "outputs": [
    {
     "data": {
      "text/plain": [
       "\"Commencera demain lundi le 6 janvier Notre vente n’ù, lieu qu'une fois'par'ail, n 9 driétr de commun ètïï§ : ] être confondüè avec ùucune autre mise en vente. 1 Ce n’est pas une vente de soldes ou de marchandises déclassées,. priais bien une tiqüidaUqm ' Irûle de tous nos articles. ' ; iPendant la durée de la vente -toutes nos marchandnëê/sUm aucune* exception : SOfEMîmJi' VELOURS, LAINAGES, DRAPE\""
      ]
     },
     "execution_count": 8,
     "metadata": {},
     "output_type": "execute_result"
    }
   ],
   "source": [
    "# Exemple de textes\n",
    "texts[0][:400]"
   ]
  },
  {
   "cell_type": "markdown",
   "metadata": {},
   "source": [
    "## Vectoriser les documents à l'aide de TF-IDF"
   ]
  },
  {
   "cell_type": "code",
   "execution_count": 9,
   "metadata": {},
   "outputs": [],
   "source": [
    "# Création d'une fonction de pré-traitement\n",
    "def preprocessing(text, stem=True):\n",
    "    \"\"\" Tokenize text and remove punctuation \"\"\"\n",
    "    text = text.translate(string.punctuation)\n",
    "    tokens = word_tokenize(text)\n",
    "    return tokens"
   ]
  },
  {
   "cell_type": "markdown",
   "metadata": {},
   "source": [
    "### Instancier le modèle TF-IDF avec ses arguments"
   ]
  },
  {
   "cell_type": "code",
   "execution_count": 10,
   "metadata": {},
   "outputs": [],
   "source": [
    "vectorizer = TfidfVectorizer(\n",
    "    tokenizer=preprocessing,\n",
    "    stop_words=stopwords.words('french'),\n",
    "    max_df=0.5,\n",
    "    min_df=0.1,\n",
    "    lowercase=True)"
   ]
  },
  {
   "cell_type": "markdown",
   "metadata": {},
   "source": [
    "### Construire la matrice de vecteurs à l'aide de la fonction `fit_transform`"
   ]
  },
  {
   "cell_type": "code",
   "execution_count": 11,
   "metadata": {},
   "outputs": [
    {
     "name": "stderr",
     "output_type": "stream",
     "text": [
      "/Users/elfabnyl/Documents/STIC/tac_venv/lib/python3.11/site-packages/sklearn/feature_extraction/text.py:521: UserWarning: The parameter 'token_pattern' will not be used since 'tokenizer' is not None'\n",
      "  warnings.warn(\n"
     ]
    }
   ],
   "source": [
    "tfidf_vectors = vectorizer.fit_transform(texts)"
   ]
  },
  {
   "cell_type": "code",
   "execution_count": 12,
   "metadata": {},
   "outputs": [
    {
     "data": {
      "text/plain": [
       "<900x3199 sparse matrix of type '<class 'numpy.float64'>'\n",
       "\twith 581940 stored elements in Compressed Sparse Row format>"
      ]
     },
     "execution_count": 12,
     "metadata": {},
     "output_type": "execute_result"
    }
   ],
   "source": [
    "# Détail de la matrice\n",
    "tfidf_vectors"
   ]
  },
  {
   "cell_type": "markdown",
   "metadata": {},
   "source": [
    "### Imprimer le vecteur tf-IDF du premier document"
   ]
  },
  {
   "cell_type": "code",
   "execution_count": 13,
   "metadata": {},
   "outputs": [
    {
     "data": {
      "text/plain": [
       "janvier      0.339744\n",
       "contenant    0.321861\n",
       "notaire      0.298355\n",
       "1890         0.237358\n",
       "are          0.229971\n",
       "               ...   \n",
       ".l           0.000000\n",
       ".s           0.000000\n",
       ".v           0.000000\n",
       ".à           0.000000\n",
       "-■           0.000000\n",
       "Length: 3199, dtype: float64"
      ]
     },
     "execution_count": 13,
     "metadata": {},
     "output_type": "execute_result"
    }
   ],
   "source": [
    "pd.Series(\n",
    "    tfidf_vectors[0].toarray()[0],\n",
    "    index=vectorizer.get_feature_names_out()\n",
    "    ).sort_values(ascending=False)"
   ]
  },
  {
   "cell_type": "markdown",
   "metadata": {},
   "source": [
    "## Comprendre les vecteurs et leurs \"distances\""
   ]
  },
  {
   "cell_type": "code",
   "execution_count": 14,
   "metadata": {},
   "outputs": [
    {
     "data": {
      "text/plain": [
       "np.float64(0.0)"
      ]
     },
     "execution_count": 14,
     "metadata": {},
     "output_type": "execute_result"
    }
   ],
   "source": [
    "cosine([1, 2, 3], [1, 2, 3])"
   ]
  },
  {
   "cell_type": "code",
   "execution_count": 15,
   "metadata": {},
   "outputs": [
    {
     "data": {
      "text/plain": [
       "np.float64(0.02004211298777725)"
      ]
     },
     "execution_count": 15,
     "metadata": {},
     "output_type": "execute_result"
    }
   ],
   "source": [
    "cosine([1, 2, 3], [1, 2, 2])"
   ]
  },
  {
   "cell_type": "code",
   "execution_count": 16,
   "metadata": {},
   "outputs": [
    {
     "data": {
      "text/plain": [
       "np.float64(0.07417990022744858)"
      ]
     },
     "execution_count": 16,
     "metadata": {},
     "output_type": "execute_result"
    }
   ],
   "source": [
    "cosine([1, 2, 3], [2, 2, 2])"
   ]
  },
  {
   "cell_type": "markdown",
   "metadata": {},
   "source": [
    "### Tests sur nos documents"
   ]
  },
  {
   "cell_type": "code",
   "execution_count": 17,
   "metadata": {},
   "outputs": [],
   "source": [
    "tfidf_array = tfidf_vectors.toarray()"
   ]
  },
  {
   "cell_type": "code",
   "execution_count": 18,
   "metadata": {},
   "outputs": [
    {
     "data": {
      "text/plain": [
       "array([0.        , 0.        , 0.03966757, ..., 0.        , 0.        ,\n",
       "       0.        ])"
      ]
     },
     "execution_count": 18,
     "metadata": {},
     "output_type": "execute_result"
    }
   ],
   "source": [
    "# Vecteur du document 0\n",
    "tfidf_array[0]"
   ]
  },
  {
   "cell_type": "code",
   "execution_count": 19,
   "metadata": {},
   "outputs": [
    {
     "data": {
      "text/plain": [
       "array([0.        , 0.        , 0.02106441, ..., 0.        , 0.        ,\n",
       "       0.        ])"
      ]
     },
     "execution_count": 19,
     "metadata": {},
     "output_type": "execute_result"
    }
   ],
   "source": [
    "# Vecteur du document 1\n",
    "tfidf_array[1]"
   ]
  },
  {
   "cell_type": "code",
   "execution_count": 20,
   "metadata": {},
   "outputs": [
    {
     "data": {
      "text/plain": [
       "np.float64(0.6463920765266045)"
      ]
     },
     "execution_count": 20,
     "metadata": {},
     "output_type": "execute_result"
    }
   ],
   "source": [
    "cosine(tfidf_array[0], tfidf_array[1])"
   ]
  },
  {
   "cell_type": "markdown",
   "metadata": {},
   "source": [
    "## Appliquer un algorithme de clustering sur les vecteurs TF-IDF des documents"
   ]
  },
  {
   "cell_type": "markdown",
   "metadata": {},
   "source": [
    "Pour en savoir plus sur le KMeans clustering :\n",
    "- https://medium.com/dataseries/k-means-clustering-explained-visually-in-5-minutes-b900cc69d175"
   ]
  },
  {
   "cell_type": "markdown",
   "metadata": {},
   "source": [
    "### Définir un nombre de clusters"
   ]
  },
  {
   "cell_type": "code",
   "execution_count": 21,
   "metadata": {},
   "outputs": [],
   "source": [
    "N_CLUSTERS = 7"
   ]
  },
  {
   "cell_type": "markdown",
   "metadata": {},
   "source": [
    "### Instancier le modèle K-Means et ses arguments"
   ]
  },
  {
   "cell_type": "code",
   "execution_count": 22,
   "metadata": {},
   "outputs": [],
   "source": [
    "km_model = KMeans(n_clusters=N_CLUSTERS)"
   ]
  },
  {
   "cell_type": "markdown",
   "metadata": {},
   "source": [
    "### Appliquer le clustering à l'aide de la fonction `fit_predict`"
   ]
  },
  {
   "cell_type": "code",
   "execution_count": 23,
   "metadata": {},
   "outputs": [],
   "source": [
    "clusters = km_model.fit_predict(tfidf_vectors)"
   ]
  },
  {
   "cell_type": "code",
   "execution_count": 24,
   "metadata": {},
   "outputs": [],
   "source": [
    "clustering = collections.defaultdict(list)\n",
    "\n",
    "for idx, label in enumerate(clusters):\n",
    "    clustering[label].append(files[idx])"
   ]
  },
  {
   "cell_type": "code",
   "execution_count": 25,
   "metadata": {},
   "outputs": [
    {
     "name": "stdout",
     "output_type": "stream",
     "text": [
      "{np.int32(0): ['KB_JB838_1890-01-06_01-00003.txt',\n",
      "               'KB_JB838_1890-01-08_01-00003.txt',\n",
      "               'KB_JB838_1890-01-09_01-00003.txt',\n",
      "               'KB_JB838_1890-01-24_01-00003.txt',\n",
      "               'KB_JB838_1890-03-09_01-00007.txt',\n",
      "               'KB_JB838_1890-04-05_01-00003.txt',\n",
      "               'KB_JB838_1890-04-15_01-00003.txt',\n",
      "               'KB_JB838_1890-05-08_01-00003.txt',\n",
      "               'KB_JB838_1890-05-10_01-00003.txt',\n",
      "               'KB_JB838_1890-07-09_01-00003.txt',\n",
      "               'KB_JB838_1890-08-16_01-00003.txt',\n",
      "               'KB_JB838_1890-11-07_01-00003.txt',\n",
      "               'KB_JB838_1890-11-14_01-00003.txt',\n",
      "               'KB_JB838_1890-12-06_01-00003.txt',\n",
      "               'KB_JB838_1890-12-15_01-00003.txt',\n",
      "               'KB_JB838_1891-02-06_01-00003.txt',\n",
      "               'KB_JB838_1891-02-20_01-00003.txt',\n",
      "               'KB_JB838_1891-04-08_01-00003.txt',\n",
      "               'KB_JB838_1891-05-02_01-00003.txt',\n",
      "               'KB_JB838_1891-05-05_01-00003.txt',\n",
      "               'KB_JB838_1891-05-21_01-00003.txt',\n",
      "               'KB_JB838_1891-05-24_01-00002.txt',\n",
      "               'KB_JB838_1891-05-30_01-00003.txt',\n",
      "               'KB_JB838_1891-06-03_01-00003.txt',\n",
      "               'KB_JB838_1891-07-09_01-00005.txt',\n",
      "               'KB_JB838_1891-07-30_01-00003.txt',\n",
      "               'KB_JB838_1891-08-02_01-00002.txt',\n",
      "               'KB_JB838_1891-08-22_01-00003.txt',\n",
      "               'KB_JB838_1891-08-29_01-00003.txt',\n",
      "               'KB_JB838_1891-08-31_01-00003.txt',\n",
      "               'KB_JB838_1891-09-17_01-00003.txt',\n",
      "               'KB_JB838_1891-09-18_01-00003.txt',\n",
      "               'KB_JB838_1891-10-08_01-00003.txt',\n",
      "               'KB_JB838_1891-10-10_01-00003.txt',\n",
      "               'KB_JB838_1891-11-08_01-00007.txt',\n",
      "               'KB_JB838_1891-11-23_01-00003.txt',\n",
      "               'KB_JB838_1892-01-21_01-00003.txt',\n",
      "               'KB_JB838_1892-01-27_01-00003.txt',\n",
      "               'KB_JB838_1892-02-06_01-00003.txt',\n",
      "               'KB_JB838_1892-02-09_01-00003.txt',\n",
      "               'KB_JB838_1892-02-19_01-00005.txt',\n",
      "               'KB_JB838_1892-03-10_01-00003.txt',\n",
      "               'KB_JB838_1892-03-25_01-00003.txt',\n",
      "               'KB_JB838_1892-04-12_01-00005.txt',\n",
      "               'KB_JB838_1892-04-28_01-00003.txt',\n",
      "               'KB_JB838_1892-05-04_01-00003.txt',\n",
      "               'KB_JB838_1892-06-11_01-00003.txt',\n",
      "               'KB_JB838_1892-06-14_01-00003.txt',\n",
      "               'KB_JB838_1892-07-28_01-00003.txt',\n",
      "               'KB_JB838_1892-08-09_01-00003.txt',\n",
      "               'KB_JB838_1892-08-16_01-00003.txt',\n",
      "               'KB_JB838_1892-08-20_01-00003.txt',\n",
      "               'KB_JB838_1892-09-28_01-00003.txt',\n",
      "               'KB_JB838_1892-10-15_01-00003.txt',\n",
      "               'KB_JB838_1892-10-22_01-00003.txt',\n",
      "               'KB_JB838_1892-11-04_01-00003.txt',\n",
      "               'KB_JB838_1892-11-28_01-00003.txt',\n",
      "               'KB_JB838_1893-01-12_01-00003.txt',\n",
      "               'KB_JB838_1893-01-29_01-00010.txt',\n",
      "               'KB_JB838_1893-01-30_01-00003.txt',\n",
      "               'KB_JB838_1893-02-05_01-00008.txt',\n",
      "               'KB_JB838_1893-02-23_01-00006.txt',\n",
      "               'KB_JB838_1893-02-25_01-00003.txt',\n",
      "               'KB_JB838_1893-04-17_01-00003.txt',\n",
      "               'KB_JB838_1893-05-03_01-00003.txt',\n",
      "               'KB_JB838_1893-05-04_01-00003.txt',\n",
      "               'KB_JB838_1893-06-01_01-00003.txt',\n",
      "               'KB_JB838_1893-06-05_01-00003.txt',\n",
      "               'KB_JB838_1893-08-09_01-00003.txt',\n",
      "               'KB_JB838_1893-09-06_01-00003.txt',\n",
      "               'KB_JB838_1893-09-29_01-00003.txt',\n",
      "               'KB_JB838_1893-11-08_01-00003.txt',\n",
      "               'KB_JB838_1894-01-01_01-00004.txt',\n",
      "               'KB_JB838_1894-01-06_01-00003.txt',\n",
      "               'KB_JB838_1894-01-20_01-00003.txt',\n",
      "               'KB_JB838_1894-03-08_01-00006.txt',\n",
      "               'KB_JB838_1894-03-22_01-00006.txt',\n",
      "               'KB_JB838_1894-04-11_01-00006.txt',\n",
      "               'KB_JB838_1894-04-18_01-00006.txt',\n",
      "               'KB_JB838_1894-05-13_01-00008.txt',\n",
      "               'KB_JB838_1894-05-24_01-00003.txt',\n",
      "               'KB_JB838_1894-05-31_01-00005.txt',\n",
      "               'KB_JB838_1894-06-07_01-00003.txt',\n",
      "               'KB_JB838_1894-06-20_01-00003.txt',\n",
      "               'KB_JB838_1894-08-15_01-00006.txt',\n",
      "               'KB_JB838_1894-09-27_01-00006.txt',\n",
      "               'KB_JB838_1894-10-18_01-00006.txt',\n",
      "               'KB_JB838_1894-10-26_01-00003.txt',\n",
      "               'KB_JB838_1894-11-09_01-00003.txt',\n",
      "               'KB_JB838_1894-11-14_01-00003.txt',\n",
      "               'KB_JB838_1894-11-30_01-00003.txt',\n",
      "               'KB_JB838_1895-01-17_01-00008.txt',\n",
      "               'KB_JB838_1895-02-04_01-00003.txt',\n",
      "               'KB_JB838_1895-02-10_01-00007.txt',\n",
      "               'KB_JB838_1895-02-17_01-00003.txt',\n",
      "               'KB_JB838_1895-02-20_01-00003.txt',\n",
      "               'KB_JB838_1895-03-16_01-00003.txt',\n",
      "               'KB_JB838_1895-04-30_01-00003.txt',\n",
      "               'KB_JB838_1895-05-22_01-00006.txt',\n",
      "               'KB_JB838_1895-06-19_01-00003.txt',\n",
      "               'KB_JB838_1895-06-29_01-00003.txt',\n",
      "               'KB_JB838_1895-07-07_01-00002.txt',\n",
      "               'KB_JB838_1895-07-10_01-00005.txt',\n",
      "               'KB_JB838_1895-07-31_01-00003.txt',\n",
      "               'KB_JB838_1895-09-01_01-00007.txt',\n",
      "               'KB_JB838_1895-12-05_01-00008.txt',\n",
      "               'KB_JB838_1895-12-22_01-00006.txt',\n",
      "               'KB_JB838_1896-02-23_01-00008.txt',\n",
      "               'KB_JB838_1896-03-04_01-00003.txt',\n",
      "               'KB_JB838_1896-03-08_01-00008.txt',\n",
      "               'KB_JB838_1896-03-12_01-00008.txt',\n",
      "               'KB_JB838_1896-05-03_01-00008.txt',\n",
      "               'KB_JB838_1896-06-05_01-00003.txt',\n",
      "               'KB_JB838_1896-06-09_01-00005.txt',\n",
      "               'KB_JB838_1896-07-09_01-00003.txt',\n",
      "               'KB_JB838_1896-07-10_01-00003.txt',\n",
      "               'KB_JB838_1896-08-06_01-00010.txt',\n",
      "               'KB_JB838_1896-08-20_01-00008.txt',\n",
      "               'KB_JB838_1896-08-25_01-00003.txt',\n",
      "               'KB_JB838_1896-08-27_01-00003.txt',\n",
      "               'KB_JB838_1896-09-16_01-00003.txt',\n",
      "               'KB_JB838_1896-09-24_01-00008.txt',\n",
      "               'KB_JB838_1896-11-12_01-00003.txt',\n",
      "               'KB_JB838_1897-01-15_01-00003.txt',\n",
      "               'KB_JB838_1897-01-28_01-00005.txt',\n",
      "               'KB_JB838_1897-04-04_01-00008.txt',\n",
      "               'KB_JB838_1897-05-20_01-00008.txt',\n",
      "               'KB_JB838_1897-07-15_01-00008.txt',\n",
      "               'KB_JB838_1897-07-21_01-00005.txt',\n",
      "               'KB_JB838_1897-08-03_01-00003.txt',\n",
      "               'KB_JB838_1897-08-25_01-00003.txt',\n",
      "               'KB_JB838_1897-09-01_01-00006.txt',\n",
      "               'KB_JB838_1897-09-09_01-00010.txt',\n",
      "               'KB_JB838_1897-10-01_01-00008.txt',\n",
      "               'KB_JB838_1897-10-06_01-00006.txt',\n",
      "               'KB_JB838_1898-03-23_01-00003.txt',\n",
      "               'KB_JB838_1898-05-20_01-00003.txt',\n",
      "               'KB_JB838_1898-05-22_01-00006.txt',\n",
      "               'KB_JB838_1898-06-17_01-00003.txt',\n",
      "               'KB_JB838_1898-09-04_01-00006.txt',\n",
      "               'KB_JB838_1898-09-10_01-00003.txt',\n",
      "               'KB_JB838_1898-10-03_01-00003.txt',\n",
      "               'KB_JB838_1898-10-09_01-00008.txt',\n",
      "               'KB_JB838_1898-11-17_01-00008.txt',\n",
      "               'KB_JB838_1898-12-19_01-00003.txt'],\n",
      " np.int32(1): ['KB_JB838_1890-01-05_01-00004.txt',\n",
      "               'KB_JB838_1890-01-12_01-00004.txt',\n",
      "               'KB_JB838_1890-02-02_01-00004.txt',\n",
      "               'KB_JB838_1890-02-23_01-00003.txt',\n",
      "               'KB_JB838_1890-04-01_01-00003.txt',\n",
      "               'KB_JB838_1890-04-14_01-00003.txt',\n",
      "               'KB_JB838_1890-08-25_01-00003.txt',\n",
      "               'KB_JB838_1890-08-31_01-00003.txt',\n",
      "               'KB_JB838_1890-12-21_01-00003.txt',\n",
      "               'KB_JB838_1890-12-28_01-00008.txt',\n",
      "               'KB_JB838_1890-12-30_01-00003.txt',\n",
      "               'KB_JB838_1891-02-22_01-00004.txt',\n",
      "               'KB_JB838_1891-05-31_01-00007.txt',\n",
      "               'KB_JB838_1891-11-10_01-00003.txt',\n",
      "               'KB_JB838_1891-11-17_01-00003.txt',\n",
      "               'KB_JB838_1891-11-24_01-00003.txt',\n",
      "               'KB_JB838_1891-12-28_01-00003.txt',\n",
      "               'KB_JB838_1892-01-25_01-00003.txt',\n",
      "               'KB_JB838_1892-02-08_01-00003.txt',\n",
      "               'KB_JB838_1892-02-28_01-00003.txt',\n",
      "               'KB_JB838_1892-05-16_01-00003.txt',\n",
      "               'KB_JB838_1892-06-12_01-00003.txt',\n",
      "               'KB_JB838_1892-07-11_01-00003.txt',\n",
      "               'KB_JB838_1892-10-25_01-00003.txt',\n",
      "               'KB_JB838_1892-11-08_01-00003.txt',\n",
      "               'KB_JB838_1893-01-29_01-00006.txt',\n",
      "               'KB_JB838_1893-03-19_01-00008.txt',\n",
      "               'KB_JB838_1893-04-30_01-00008.txt',\n",
      "               'KB_JB838_1893-05-07_01-00003.txt',\n",
      "               'KB_JB838_1893-06-04_01-00008.txt',\n",
      "               'KB_JB838_1893-07-02_01-00008.txt',\n",
      "               'KB_JB838_1893-07-09_01-00005.txt',\n",
      "               'KB_JB838_1893-12-10_01-00008.txt',\n",
      "               'KB_JB838_1894-01-14_01-00008.txt',\n",
      "               'KB_JB838_1894-01-16_01-00003.txt',\n",
      "               'KB_JB838_1894-02-12_01-00003.txt',\n",
      "               'KB_JB838_1894-02-18_01-00008.txt',\n",
      "               'KB_JB838_1894-05-13_01-00003.txt',\n",
      "               'KB_JB838_1894-06-10_01-00007.txt',\n",
      "               'KB_JB838_1894-06-24_01-00005.txt',\n",
      "               'KB_JB838_1894-09-09_01-00003.txt',\n",
      "               'KB_JB838_1894-11-04_01-00008.txt',\n",
      "               'KB_JB838_1895-06-23_01-00008.txt',\n",
      "               'KB_JB838_1895-07-14_01-00007.txt',\n",
      "               'KB_JB838_1895-10-27_01-00008.txt',\n",
      "               'KB_JB838_1895-11-02_01-00007.txt',\n",
      "               'KB_JB838_1895-12-08_01-00003.txt',\n",
      "               'KB_JB838_1895-12-23_01-00003.txt',\n",
      "               'KB_JB838_1895-12-29_01-00003.txt',\n",
      "               'KB_JB838_1896-01-12_01-00007.txt',\n",
      "               'KB_JB838_1896-03-02_01-00003.txt',\n",
      "               'KB_JB838_1896-04-05_01-00003.txt',\n",
      "               'KB_JB838_1896-04-12_01-00007.txt',\n",
      "               'KB_JB838_1896-05-12_01-00003.txt',\n",
      "               'KB_JB838_1896-05-24_01-00003.txt',\n",
      "               'KB_JB838_1896-05-24_01-00007.txt',\n",
      "               'KB_JB838_1896-07-26_01-00004.txt',\n",
      "               'KB_JB838_1896-09-06_01-00007.txt',\n",
      "               'KB_JB838_1896-10-04_01-00004.txt',\n",
      "               'KB_JB838_1896-11-01_01-00007.txt',\n",
      "               'KB_JB838_1896-11-02_01-00003.txt',\n",
      "               'KB_JB838_1896-11-15_01-00006.txt',\n",
      "               'KB_JB838_1896-12-28_01-00003.txt',\n",
      "               'KB_JB838_1897-05-02_01-00003.txt',\n",
      "               'KB_JB838_1897-05-16_01-00007.txt',\n",
      "               'KB_JB838_1897-07-25_01-00003.txt',\n",
      "               'KB_JB838_1897-08-08_01-00003.txt',\n",
      "               'KB_JB838_1897-09-05_01-00007.txt',\n",
      "               'KB_JB838_1897-10-18_01-00003.txt',\n",
      "               'KB_JB838_1898-01-01_01-00004.txt',\n",
      "               'KB_JB838_1898-02-06_01-00007.txt',\n",
      "               'KB_JB838_1898-03-14_01-00005.txt',\n",
      "               'KB_JB838_1898-06-26_01-00007.txt',\n",
      "               'KB_JB838_1898-08-21_01-00007.txt',\n",
      "               'KB_JB838_1898-09-04_01-00008.txt',\n",
      "               'KB_JB838_1898-09-11_01-00003.txt',\n",
      "               'KB_JB838_1898-12-11_01-00007.txt'],\n",
      " np.int32(2): ['KB_JB838_1890-01-29_01-00004.txt',\n",
      "               'KB_JB838_1890-02-05_01-00008.txt',\n",
      "               'KB_JB838_1890-02-16_01-00004.txt',\n",
      "               'KB_JB838_1890-04-01_01-00004.txt',\n",
      "               'KB_JB838_1890-05-11_01-00003.txt',\n",
      "               'KB_JB838_1890-05-20_01-00004.txt',\n",
      "               'KB_JB838_1890-06-07_01-00004.txt',\n",
      "               'KB_JB838_1890-06-21_01-00004.txt',\n",
      "               'KB_JB838_1890-06-23_01-00004.txt',\n",
      "               'KB_JB838_1890-07-09_01-00004.txt',\n",
      "               'KB_JB838_1890-07-10_01-00004.txt',\n",
      "               'KB_JB838_1890-07-12_01-00004.txt',\n",
      "               'KB_JB838_1890-07-15_01-00004.txt',\n",
      "               'KB_JB838_1890-07-17_01-00004.txt',\n",
      "               'KB_JB838_1890-08-01_01-00004.txt',\n",
      "               'KB_JB838_1890-08-09_01-00004.txt',\n",
      "               'KB_JB838_1890-08-19_01-00004.txt',\n",
      "               'KB_JB838_1890-08-27_01-00004.txt',\n",
      "               'KB_JB838_1890-09-15_01-00004.txt',\n",
      "               'KB_JB838_1890-10-23_01-00004.txt',\n",
      "               'KB_JB838_1890-10-26_01-00004.txt',\n",
      "               'KB_JB838_1890-11-04_01-00004.txt',\n",
      "               'KB_JB838_1890-11-17_01-00004.txt',\n",
      "               'KB_JB838_1890-12-02_01-00004.txt',\n",
      "               'KB_JB838_1890-12-11_01-00004.txt',\n",
      "               'KB_JB838_1891-01-02_01-00004.txt',\n",
      "               'KB_JB838_1891-02-11_01-00004.txt',\n",
      "               'KB_JB838_1891-02-18_01-00004.txt',\n",
      "               'KB_JB838_1891-03-16_01-00004.txt',\n",
      "               'KB_JB838_1891-03-20_01-00004.txt',\n",
      "               'KB_JB838_1891-04-30_01-00004.txt',\n",
      "               'KB_JB838_1891-05-24_01-00003.txt',\n",
      "               'KB_JB838_1891-06-17_01-00004.txt',\n",
      "               'KB_JB838_1891-07-04_01-00004.txt',\n",
      "               'KB_JB838_1891-07-09_01-00006.txt',\n",
      "               'KB_JB838_1891-08-02_01-00003.txt',\n",
      "               'KB_JB838_1891-08-04_01-00004.txt',\n",
      "               'KB_JB838_1891-08-18_01-00004.txt',\n",
      "               'KB_JB838_1891-09-15_01-00004.txt',\n",
      "               'KB_JB838_1891-09-20_01-00004.txt',\n",
      "               'KB_JB838_1891-09-21_01-00004.txt',\n",
      "               'KB_JB838_1891-09-22_01-00004.txt',\n",
      "               'KB_JB838_1891-10-13_01-00004.txt',\n",
      "               'KB_JB838_1891-10-16_01-00004.txt',\n",
      "               'KB_JB838_1891-10-20_01-00004.txt',\n",
      "               'KB_JB838_1891-10-25_01-00004.txt',\n",
      "               'KB_JB838_1891-11-02_01-00004.txt',\n",
      "               'KB_JB838_1891-11-07_01-00004.txt',\n",
      "               'KB_JB838_1891-11-10_01-00004.txt',\n",
      "               'KB_JB838_1891-11-27_01-00004.txt',\n",
      "               'KB_JB838_1891-12-01_01-00004.txt',\n",
      "               'KB_JB838_1891-12-05_01-00002.txt',\n",
      "               'KB_JB838_1891-12-13_01-00004.txt',\n",
      "               'KB_JB838_1892-01-12_01-00004.txt',\n",
      "               'KB_JB838_1892-01-25_01-00004.txt',\n",
      "               'KB_JB838_1892-01-26_01-00004.txt',\n",
      "               'KB_JB838_1892-02-04_01-00004.txt',\n",
      "               'KB_JB838_1892-02-26_01-00004.txt',\n",
      "               'KB_JB838_1892-03-02_01-00004.txt',\n",
      "               'KB_JB838_1892-03-13_01-00004.txt',\n",
      "               'KB_JB838_1892-03-22_01-00004.txt',\n",
      "               'KB_JB838_1892-04-09_01-00004.txt',\n",
      "               'KB_JB838_1892-05-18_01-00004.txt',\n",
      "               'KB_JB838_1892-05-30_01-00004.txt',\n",
      "               'KB_JB838_1892-06-01_01-00004.txt',\n",
      "               'KB_JB838_1892-06-20_01-00006.txt',\n",
      "               'KB_JB838_1892-07-01_01-00004.txt',\n",
      "               'KB_JB838_1892-07-09_01-00004.txt',\n",
      "               'KB_JB838_1892-08-04_01-00004.txt',\n",
      "               'KB_JB838_1892-09-12_01-00004.txt',\n",
      "               'KB_JB838_1892-09-19_01-00004.txt',\n",
      "               'KB_JB838_1892-10-02_01-00003.txt',\n",
      "               'KB_JB838_1892-10-07_01-00004.txt',\n",
      "               'KB_JB838_1892-10-09_01-00004.txt',\n",
      "               'KB_JB838_1892-10-17_01-00004.txt',\n",
      "               'KB_JB838_1892-11-08_01-00004.txt',\n",
      "               'KB_JB838_1892-11-29_01-00004.txt',\n",
      "               'KB_JB838_1892-12-10_01-00004.txt',\n",
      "               'KB_JB838_1893-01-06_01-00004.txt',\n",
      "               'KB_JB838_1893-01-12_01-00004.txt',\n",
      "               'KB_JB838_1893-01-14_01-00004.txt',\n",
      "               'KB_JB838_1893-02-01_01-00004.txt',\n",
      "               'KB_JB838_1893-02-22_01-00003.txt',\n",
      "               'KB_JB838_1893-03-08_01-00004.txt',\n",
      "               'KB_JB838_1893-04-15_01-00004.txt',\n",
      "               'KB_JB838_1893-04-18_01-00004.txt',\n",
      "               'KB_JB838_1893-06-07_01-00004.txt',\n",
      "               'KB_JB838_1893-06-18_01-00004.txt',\n",
      "               'KB_JB838_1893-06-20_01-00004.txt',\n",
      "               'KB_JB838_1893-07-04_01-00004.txt',\n",
      "               'KB_JB838_1893-08-09_01-00004.txt',\n",
      "               'KB_JB838_1893-08-29_01-00004.txt',\n",
      "               'KB_JB838_1893-08-30_01-00004.txt',\n",
      "               'KB_JB838_1893-09-28_01-00004.txt',\n",
      "               'KB_JB838_1893-10-23_01-00004.txt',\n",
      "               'KB_JB838_1893-11-23_01-00004.txt',\n",
      "               'KB_JB838_1893-11-28_01-00004.txt',\n",
      "               'KB_JB838_1893-12-06_01-00004.txt',\n",
      "               'KB_JB838_1894-01-14_01-00003.txt',\n",
      "               'KB_JB838_1894-01-25_01-00004.txt',\n",
      "               'KB_JB838_1894-03-01_01-00006.txt',\n",
      "               'KB_JB838_1894-04-29_01-00003.txt',\n",
      "               'KB_JB838_1894-05-17_01-00004.txt',\n",
      "               'KB_JB838_1894-05-23_01-00004.txt',\n",
      "               'KB_JB838_1894-06-12_01-00004.txt',\n",
      "               'KB_JB838_1894-06-17_01-00005.txt',\n",
      "               'KB_JB838_1894-07-02_01-00003.txt',\n",
      "               'KB_JB838_1894-07-12_01-00004.txt',\n",
      "               'KB_JB838_1894-08-01_01-00004.txt',\n",
      "               'KB_JB838_1894-08-09_01-00004.txt',\n",
      "               'KB_JB838_1894-08-29_01-00004.txt',\n",
      "               'KB_JB838_1894-09-25_01-00004.txt',\n",
      "               'KB_JB838_1894-10-09_01-00004.txt',\n",
      "               'KB_JB838_1894-10-31_01-00004.txt',\n",
      "               'KB_JB838_1894-11-11_01-00004.txt',\n",
      "               'KB_JB838_1894-11-19_01-00004.txt',\n",
      "               'KB_JB838_1894-11-27_01-00004.txt',\n",
      "               'KB_JB838_1894-11-29_01-00004.txt',\n",
      "               'KB_JB838_1894-12-23_01-00004.txt',\n",
      "               'KB_JB838_1895-01-15_01-00004.txt',\n",
      "               'KB_JB838_1895-01-26_01-00004.txt',\n",
      "               'KB_JB838_1895-02-02_01-00004.txt',\n",
      "               'KB_JB838_1895-02-03_01-00006.txt',\n",
      "               'KB_JB838_1895-02-24_01-00004.txt',\n",
      "               'KB_JB838_1895-03-06_01-00004.txt',\n",
      "               'KB_JB838_1895-05-05_01-00004.txt',\n",
      "               'KB_JB838_1895-05-13_01-00004.txt',\n",
      "               'KB_JB838_1895-07-10_01-00004.txt',\n",
      "               'KB_JB838_1895-07-20_01-00004.txt',\n",
      "               'KB_JB838_1895-08-12_01-00004.txt',\n",
      "               'KB_JB838_1895-08-30_01-00004.txt',\n",
      "               'KB_JB838_1895-10-06_01-00003.txt',\n",
      "               'KB_JB838_1895-11-22_01-00004.txt',\n",
      "               'KB_JB838_1896-01-06_01-00004.txt',\n",
      "               'KB_JB838_1896-01-19_01-00004.txt',\n",
      "               'KB_JB838_1896-02-08_01-00004.txt',\n",
      "               'KB_JB838_1896-02-23_01-00004.txt',\n",
      "               'KB_JB838_1896-03-02_01-00004.txt',\n",
      "               'KB_JB838_1896-03-22_01-00004.txt',\n",
      "               'KB_JB838_1896-04-04_01-00004.txt',\n",
      "               'KB_JB838_1896-04-19_01-00006.txt',\n",
      "               'KB_JB838_1896-04-21_01-00004.txt',\n",
      "               'KB_JB838_1896-05-01_01-00004.txt',\n",
      "               'KB_JB838_1896-05-24_01-00004.txt',\n",
      "               'KB_JB838_1896-06-29_01-00004.txt',\n",
      "               'KB_JB838_1896-10-01_01-00004.txt',\n",
      "               'KB_JB838_1896-10-06_01-00004.txt',\n",
      "               'KB_JB838_1896-10-21_01-00004.txt',\n",
      "               'KB_JB838_1896-11-19_01-00004.txt',\n",
      "               'KB_JB838_1896-11-20_01-00004.txt',\n",
      "               'KB_JB838_1896-12-07_01-00004.txt',\n",
      "               'KB_JB838_1897-01-13_01-00006.txt',\n",
      "               'KB_JB838_1897-02-11_01-00004.txt',\n",
      "               'KB_JB838_1897-02-22_01-00004.txt',\n",
      "               'KB_JB838_1897-03-19_01-00004.txt',\n",
      "               'KB_JB838_1897-04-03_01-00004.txt',\n",
      "               'KB_JB838_1897-04-18_01-00004.txt',\n",
      "               'KB_JB838_1897-04-22_01-00004.txt',\n",
      "               'KB_JB838_1897-05-13_01-00004.txt',\n",
      "               'KB_JB838_1897-05-15_01-00004.txt',\n",
      "               'KB_JB838_1897-05-21_01-00004.txt',\n",
      "               'KB_JB838_1897-05-29_01-00004.txt',\n",
      "               'KB_JB838_1897-06-07_01-00004.txt',\n",
      "               'KB_JB838_1897-08-05_01-00004.txt',\n",
      "               'KB_JB838_1897-09-08_01-00004.txt',\n",
      "               'KB_JB838_1897-10-05_01-00003.txt',\n",
      "               'KB_JB838_1897-10-06_01-00004.txt',\n",
      "               'KB_JB838_1897-11-07_01-00004.txt',\n",
      "               'KB_JB838_1897-11-11_01-00004.txt',\n",
      "               'KB_JB838_1897-12-08_01-00004.txt',\n",
      "               'KB_JB838_1898-01-11_01-00004.txt',\n",
      "               'KB_JB838_1898-02-25_01-00004.txt',\n",
      "               'KB_JB838_1898-02-27_01-00004.txt',\n",
      "               'KB_JB838_1898-03-08_01-00004.txt',\n",
      "               'KB_JB838_1898-03-29_01-00003.txt',\n",
      "               'KB_JB838_1898-04-08_01-00004.txt',\n",
      "               'KB_JB838_1898-05-04_01-00004.txt',\n",
      "               'KB_JB838_1898-06-10_01-00004.txt',\n",
      "               'KB_JB838_1898-07-08_01-00004.txt',\n",
      "               'KB_JB838_1898-07-23_01-00004.txt',\n",
      "               'KB_JB838_1898-08-09_01-00004.txt',\n",
      "               'KB_JB838_1898-09-22_01-00004.txt',\n",
      "               'KB_JB838_1898-09-27_01-00004.txt',\n",
      "               'KB_JB838_1898-10-07_01-00004.txt',\n",
      "               'KB_JB838_1898-10-08_01-00004.txt',\n",
      "               'KB_JB838_1898-10-09_01-00003.txt',\n",
      "               'KB_JB838_1898-10-28_01-00004.txt',\n",
      "               'KB_JB838_1898-10-29_01-00004.txt',\n",
      "               'KB_JB838_1898-11-05_01-00004.txt',\n",
      "               'KB_JB838_1898-11-21_01-00004.txt',\n",
      "               'KB_JB838_1898-11-24_01-00004.txt',\n",
      "               'KB_JB838_1898-12-03_01-00004.txt',\n",
      "               'KB_JB838_1898-12-08_01-00004.txt',\n",
      "               'KB_JB838_1898-12-26_01-00004.txt'],\n",
      " np.int32(3): ['KB_JB838_1890-01-20_01-00001.txt',\n",
      "               'KB_JB838_1890-03-04_01-00001.txt',\n",
      "               'KB_JB838_1890-06-06_01-00001.txt',\n",
      "               'KB_JB838_1890-07-02_01-00001.txt',\n",
      "               'KB_JB838_1890-12-14_01-00003.txt',\n",
      "               'KB_JB838_1891-08-11_01-00001.txt',\n",
      "               'KB_JB838_1892-08-26_01-00002.txt',\n",
      "               'KB_JB838_1893-01-30_01-00001.txt',\n",
      "               'KB_JB838_1893-04-02_01-00006.txt',\n",
      "               'KB_JB838_1893-04-13_01-00001.txt',\n",
      "               'KB_JB838_1893-04-16_01-00001.txt',\n",
      "               'KB_JB838_1893-05-10_01-00001.txt',\n",
      "               'KB_JB838_1893-05-14_01-00002.txt',\n",
      "               'KB_JB838_1893-06-03_01-00003.txt',\n",
      "               'KB_JB838_1893-06-09_01-00001.txt',\n",
      "               'KB_JB838_1893-06-12_01-00001.txt',\n",
      "               'KB_JB838_1893-06-19_01-00001.txt',\n",
      "               'KB_JB838_1893-06-19_01-00004.txt',\n",
      "               'KB_JB838_1893-08-08_01-00001.txt',\n",
      "               'KB_JB838_1894-03-18_01-00001.txt',\n",
      "               'KB_JB838_1894-10-04_01-00006.txt',\n",
      "               'KB_JB838_1894-10-11_01-00005.txt',\n",
      "               'KB_JB838_1894-11-25_01-00006.txt',\n",
      "               'KB_JB838_1894-11-30_01-00001.txt',\n",
      "               'KB_JB838_1895-02-07_01-00001.txt',\n",
      "               'KB_JB838_1895-05-20_01-00001.txt',\n",
      "               'KB_JB838_1895-05-28_01-00001.txt',\n",
      "               'KB_JB838_1895-07-03_01-00001.txt',\n",
      "               'KB_JB838_1897-06-09_01-00001.txt',\n",
      "               'KB_JB838_1897-07-21_01-00001.txt',\n",
      "               'KB_JB838_1898-01-29_01-00001.txt',\n",
      "               'KB_JB838_1898-02-14_01-00003.txt'],\n",
      " np.int32(4): ['KB_JB838_1890-01-15_01-00001.txt',\n",
      "               'KB_JB838_1890-01-25_01-00001.txt',\n",
      "               'KB_JB838_1890-02-07_01-00001.txt',\n",
      "               'KB_JB838_1890-04-13_01-00001.txt',\n",
      "               'KB_JB838_1890-05-01_01-00001.txt',\n",
      "               'KB_JB838_1890-05-11_01-00001.txt',\n",
      "               'KB_JB838_1890-06-20_01-00001.txt',\n",
      "               'KB_JB838_1890-06-24_01-00001.txt',\n",
      "               'KB_JB838_1890-08-18_01-00001.txt',\n",
      "               'KB_JB838_1890-09-08_01-00001.txt',\n",
      "               'KB_JB838_1890-09-17_01-00001.txt',\n",
      "               'KB_JB838_1890-09-18_01-00001.txt',\n",
      "               'KB_JB838_1890-10-02_01-00001.txt',\n",
      "               'KB_JB838_1890-11-17_01-00001.txt',\n",
      "               'KB_JB838_1890-11-21_01-00001.txt',\n",
      "               'KB_JB838_1890-11-24_01-00001.txt',\n",
      "               'KB_JB838_1890-12-01_01-00001.txt',\n",
      "               'KB_JB838_1890-12-30_01-00001.txt',\n",
      "               'KB_JB838_1891-01-23_01-00001.txt',\n",
      "               'KB_JB838_1891-04-19_01-00001.txt',\n",
      "               'KB_JB838_1891-05-12_01-00001.txt',\n",
      "               'KB_JB838_1891-05-21_01-00001.txt',\n",
      "               'KB_JB838_1891-06-16_01-00001.txt',\n",
      "               'KB_JB838_1891-06-19_01-00001.txt',\n",
      "               'KB_JB838_1891-07-18_01-00001.txt',\n",
      "               'KB_JB838_1891-07-26_01-00001.txt',\n",
      "               'KB_JB838_1891-07-31_01-00001.txt',\n",
      "               'KB_JB838_1891-09-18_01-00001.txt',\n",
      "               'KB_JB838_1892-01-10_01-00001.txt',\n",
      "               'KB_JB838_1892-04-16_01-00001.txt',\n",
      "               'KB_JB838_1892-05-13_01-00001.txt',\n",
      "               'KB_JB838_1892-06-01_01-00001.txt',\n",
      "               'KB_JB838_1892-06-08_01-00001.txt',\n",
      "               'KB_JB838_1892-07-01_01-00001.txt',\n",
      "               'KB_JB838_1892-08-03_01-00001.txt',\n",
      "               'KB_JB838_1892-11-13_01-00001.txt',\n",
      "               'KB_JB838_1892-12-04_01-00001.txt',\n",
      "               'KB_JB838_1892-12-22_01-00001.txt',\n",
      "               'KB_JB838_1893-02-12_01-00001.txt',\n",
      "               'KB_JB838_1893-03-03_01-00001.txt',\n",
      "               'KB_JB838_1893-07-04_01-00001.txt',\n",
      "               'KB_JB838_1893-08-25_01-00001.txt',\n",
      "               'KB_JB838_1893-09-16_01-00001.txt',\n",
      "               'KB_JB838_1893-09-19_01-00001.txt',\n",
      "               'KB_JB838_1893-09-27_01-00001.txt',\n",
      "               'KB_JB838_1893-10-15_01-00001.txt',\n",
      "               'KB_JB838_1893-11-15_01-00001.txt',\n",
      "               'KB_JB838_1893-11-17_01-00001.txt',\n",
      "               'KB_JB838_1894-01-14_01-00001.txt',\n",
      "               'KB_JB838_1894-01-17_01-00001.txt',\n",
      "               'KB_JB838_1894-02-27_01-00001.txt',\n",
      "               'KB_JB838_1894-03-02_01-00001.txt',\n",
      "               'KB_JB838_1894-04-17_01-00001.txt',\n",
      "               'KB_JB838_1894-04-20_01-00001.txt',\n",
      "               'KB_JB838_1894-04-30_01-00001.txt',\n",
      "               'KB_JB838_1894-05-01_01-00001.txt',\n",
      "               'KB_JB838_1894-05-31_01-00003.txt',\n",
      "               'KB_JB838_1894-06-13_01-00001.txt',\n",
      "               'KB_JB838_1894-06-21_01-00001.txt',\n",
      "               'KB_JB838_1894-10-05_01-00001.txt',\n",
      "               'KB_JB838_1894-11-15_01-00001.txt',\n",
      "               'KB_JB838_1894-11-23_01-00001.txt',\n",
      "               'KB_JB838_1894-12-01_01-00001.txt',\n",
      "               'KB_JB838_1895-02-22_01-00001.txt',\n",
      "               'KB_JB838_1895-02-23_01-00001.txt',\n",
      "               'KB_JB838_1895-03-14_01-00001.txt',\n",
      "               'KB_JB838_1895-03-19_01-00001.txt',\n",
      "               'KB_JB838_1895-04-25_01-00001.txt',\n",
      "               'KB_JB838_1895-05-26_01-00001.txt',\n",
      "               'KB_JB838_1895-06-18_01-00001.txt',\n",
      "               'KB_JB838_1895-07-24_01-00001.txt',\n",
      "               'KB_JB838_1895-08-06_01-00001.txt',\n",
      "               'KB_JB838_1895-09-05_01-00001.txt',\n",
      "               'KB_JB838_1895-10-10_01-00001.txt',\n",
      "               'KB_JB838_1895-11-06_01-00001.txt',\n",
      "               'KB_JB838_1895-11-17_01-00001.txt',\n",
      "               'KB_JB838_1895-11-21_01-00001.txt',\n",
      "               'KB_JB838_1895-11-23_01-00001.txt',\n",
      "               'KB_JB838_1896-01-26_01-00001.txt',\n",
      "               'KB_JB838_1896-02-11_01-00001.txt',\n",
      "               'KB_JB838_1896-02-23_01-00001.txt',\n",
      "               'KB_JB838_1896-03-29_01-00001.txt',\n",
      "               'KB_JB838_1896-04-28_01-00001.txt',\n",
      "               'KB_JB838_1896-05-11_01-00001.txt',\n",
      "               'KB_JB838_1896-05-31_01-00001.txt',\n",
      "               'KB_JB838_1896-06-03_01-00001.txt',\n",
      "               'KB_JB838_1896-06-04_01-00001.txt',\n",
      "               'KB_JB838_1896-06-05_01-00001.txt',\n",
      "               'KB_JB838_1896-06-22_01-00001.txt',\n",
      "               'KB_JB838_1896-06-30_01-00001.txt',\n",
      "               'KB_JB838_1896-10-05_01-00001.txt',\n",
      "               'KB_JB838_1896-10-16_01-00001.txt',\n",
      "               'KB_JB838_1896-11-02_01-00001.txt',\n",
      "               'KB_JB838_1896-12-10_01-00002.txt',\n",
      "               'KB_JB838_1897-02-04_01-00001.txt',\n",
      "               'KB_JB838_1897-02-25_01-00001.txt',\n",
      "               'KB_JB838_1897-04-01_01-00001.txt',\n",
      "               'KB_JB838_1897-05-30_01-00001.txt',\n",
      "               'KB_JB838_1897-06-06_01-00001.txt',\n",
      "               'KB_JB838_1897-06-12_01-00001.txt',\n",
      "               'KB_JB838_1897-06-20_01-00001.txt',\n",
      "               'KB_JB838_1897-06-23_01-00001.txt',\n",
      "               'KB_JB838_1897-09-05_01-00001.txt',\n",
      "               'KB_JB838_1897-09-12_01-00001.txt',\n",
      "               'KB_JB838_1898-02-03_01-00001.txt',\n",
      "               'KB_JB838_1898-03-13_01-00001.txt',\n",
      "               'KB_JB838_1898-03-18_01-00001.txt',\n",
      "               'KB_JB838_1898-04-22_01-00001.txt',\n",
      "               'KB_JB838_1898-05-22_01-00001.txt',\n",
      "               'KB_JB838_1898-06-03_01-00001.txt',\n",
      "               'KB_JB838_1898-06-19_01-00001.txt',\n",
      "               'KB_JB838_1898-08-27_01-00001.txt',\n",
      "               'KB_JB838_1898-08-28_01-00001.txt',\n",
      "               'KB_JB838_1898-10-09_01-00001.txt',\n",
      "               'KB_JB838_1898-11-16_01-00001.txt',\n",
      "               'KB_JB838_1898-11-19_01-00001.txt',\n",
      "               'KB_JB838_1898-12-01_01-00001.txt',\n",
      "               'KB_JB838_1898-12-05_01-00001.txt'],\n",
      " np.int32(5): ['KB_JB838_1890-02-05_01-00001.txt',\n",
      "               'KB_JB838_1890-02-09_01-00003.txt',\n",
      "               'KB_JB838_1890-03-27_01-00001.txt',\n",
      "               'KB_JB838_1890-06-22_01-00006.txt',\n",
      "               'KB_JB838_1890-08-09_01-00001.txt',\n",
      "               'KB_JB838_1890-08-26_01-00001.txt',\n",
      "               'KB_JB838_1890-09-03_01-00001.txt',\n",
      "               'KB_JB838_1890-09-04_01-00001.txt',\n",
      "               'KB_JB838_1890-09-09_01-00001.txt',\n",
      "               'KB_JB838_1890-10-24_01-00001.txt',\n",
      "               'KB_JB838_1891-01-10_01-00001.txt',\n",
      "               'KB_JB838_1891-02-14_01-00001.txt',\n",
      "               'KB_JB838_1891-03-04_01-00001.txt',\n",
      "               'KB_JB838_1891-03-11_01-00001.txt',\n",
      "               'KB_JB838_1891-03-12_01-00001.txt',\n",
      "               'KB_JB838_1891-04-11_01-00001.txt',\n",
      "               'KB_JB838_1891-04-14_01-00001.txt',\n",
      "               'KB_JB838_1891-04-28_01-00001.txt',\n",
      "               'KB_JB838_1891-05-01_01-00001.txt',\n",
      "               'KB_JB838_1891-05-02_01-00001.txt',\n",
      "               'KB_JB838_1891-05-15_01-00001.txt',\n",
      "               'KB_JB838_1891-06-09_01-00001.txt',\n",
      "               'KB_JB838_1891-06-13_01-00001.txt',\n",
      "               'KB_JB838_1891-07-16_01-00001.txt',\n",
      "               'KB_JB838_1891-12-14_01-00001.txt',\n",
      "               'KB_JB838_1891-12-24_01-00001.txt',\n",
      "               'KB_JB838_1892-02-25_01-00003.txt',\n",
      "               'KB_JB838_1892-03-24_01-00005.txt',\n",
      "               'KB_JB838_1892-03-31_01-00005.txt',\n",
      "               'KB_JB838_1892-04-05_01-00001.txt',\n",
      "               'KB_JB838_1892-04-07_01-00005.txt',\n",
      "               'KB_JB838_1892-05-11_01-00001.txt',\n",
      "               'KB_JB838_1892-05-19_01-00005.txt',\n",
      "               'KB_JB838_1892-08-14_01-00005.txt',\n",
      "               'KB_JB838_1892-08-18_01-00006.txt',\n",
      "               'KB_JB838_1892-09-07_01-00001.txt',\n",
      "               'KB_JB838_1892-12-01_01-00005.txt',\n",
      "               'KB_JB838_1892-12-15_01-00005.txt',\n",
      "               'KB_JB838_1893-01-12_01-00005.txt',\n",
      "               'KB_JB838_1893-01-29_01-00008.txt',\n",
      "               'KB_JB838_1893-02-11_01-00001.txt',\n",
      "               'KB_JB838_1893-02-12_01-00005.txt',\n",
      "               'KB_JB838_1893-02-26_01-00006.txt',\n",
      "               'KB_JB838_1893-05-14_01-00005.txt',\n",
      "               'KB_JB838_1893-08-11_01-00001.txt',\n",
      "               'KB_JB838_1893-08-13_01-00005.txt',\n",
      "               'KB_JB838_1893-10-08_01-00006.txt',\n",
      "               'KB_JB838_1893-10-24_01-00001.txt',\n",
      "               'KB_JB838_1893-11-13_01-00006.txt',\n",
      "               'KB_JB838_1893-12-15_01-00001.txt',\n",
      "               'KB_JB838_1894-01-04_01-00005.txt',\n",
      "               'KB_JB838_1894-01-11_01-00005.txt',\n",
      "               'KB_JB838_1894-02-11_01-00006.txt',\n",
      "               'KB_JB838_1894-04-15_01-00004.txt',\n",
      "               'KB_JB838_1894-06-28_01-00005.txt',\n",
      "               'KB_JB838_1894-07-05_01-00005.txt',\n",
      "               'KB_JB838_1894-09-02_01-00006.txt',\n",
      "               'KB_JB838_1894-11-01_01-00005.txt',\n",
      "               'KB_JB838_1895-01-08_01-00008.txt',\n",
      "               'KB_JB838_1895-01-17_01-00006.txt',\n",
      "               'KB_JB838_1895-01-20_01-00008.txt',\n",
      "               'KB_JB838_1895-01-23_01-00005.txt',\n",
      "               'KB_JB838_1895-03-17_01-00005.txt',\n",
      "               'KB_JB838_1895-03-21_01-00007.txt',\n",
      "               'KB_JB838_1895-04-24_01-00006.txt',\n",
      "               'KB_JB838_1895-05-02_01-00007.txt',\n",
      "               'KB_JB838_1895-05-08_01-00005.txt',\n",
      "               'KB_JB838_1895-06-13_01-00005.txt',\n",
      "               'KB_JB838_1895-06-27_01-00007.txt',\n",
      "               'KB_JB838_1895-06-30_01-00005.txt',\n",
      "               'KB_JB838_1895-08-08_01-00006.txt',\n",
      "               'KB_JB838_1895-08-15_01-00007.txt',\n",
      "               'KB_JB838_1895-10-10_01-00005.txt',\n",
      "               'KB_JB838_1895-10-17_01-00005.txt',\n",
      "               'KB_JB838_1895-10-17_01-00007.txt',\n",
      "               'KB_JB838_1895-10-31_01-00005.txt',\n",
      "               'KB_JB838_1895-11-05_01-00001.txt',\n",
      "               'KB_JB838_1895-11-06_01-00005.txt',\n",
      "               'KB_JB838_1895-11-15_01-00001.txt',\n",
      "               'KB_JB838_1895-11-20_01-00008.txt',\n",
      "               'KB_JB838_1895-12-05_01-00006.txt',\n",
      "               'KB_JB838_1895-12-07_01-00001.txt',\n",
      "               'KB_JB838_1895-12-31_01-00001.txt',\n",
      "               'KB_JB838_1896-01-16_01-00005.txt',\n",
      "               'KB_JB838_1896-02-02_01-00005.txt',\n",
      "               'KB_JB838_1896-02-20_01-00005.txt',\n",
      "               'KB_JB838_1896-02-23_01-00005.txt',\n",
      "               'KB_JB838_1896-03-11_01-00005.txt',\n",
      "               'KB_JB838_1896-04-16_01-00006.txt',\n",
      "               'KB_JB838_1896-04-19_01-00008.txt',\n",
      "               'KB_JB838_1896-05-07_01-00005.txt',\n",
      "               'KB_JB838_1896-05-20_01-00006.txt',\n",
      "               'KB_JB838_1896-06-18_01-00006.txt',\n",
      "               'KB_JB838_1896-06-25_01-00005.txt',\n",
      "               'KB_JB838_1896-07-18_01-00001.txt',\n",
      "               'KB_JB838_1896-09-06_01-00005.txt',\n",
      "               'KB_JB838_1896-10-08_01-00009.txt',\n",
      "               'KB_JB838_1896-11-19_01-00006.txt',\n",
      "               'KB_JB838_1896-11-29_01-00006.txt',\n",
      "               'KB_JB838_1896-12-02_01-00005.txt',\n",
      "               'KB_JB838_1896-12-17_01-00006.txt',\n",
      "               'KB_JB838_1896-12-25_01-00001.txt',\n",
      "               'KB_JB838_1896-12-30_01-00005.txt',\n",
      "               'KB_JB838_1897-01-05_01-00001.txt',\n",
      "               'KB_JB838_1897-01-06_01-00005.txt',\n",
      "               'KB_JB838_1897-01-08_01-00001.txt',\n",
      "               'KB_JB838_1897-01-21_01-00007.txt',\n",
      "               'KB_JB838_1897-01-27_01-00001.txt',\n",
      "               'KB_JB838_1897-02-04_01-00006.txt',\n",
      "               'KB_JB838_1897-02-13_01-00001.txt',\n",
      "               'KB_JB838_1897-03-11_01-00006.txt',\n",
      "               'KB_JB838_1897-03-12_01-00001.txt',\n",
      "               'KB_JB838_1897-04-28_01-00001.txt',\n",
      "               'KB_JB838_1897-06-05_01-00001.txt',\n",
      "               'KB_JB838_1897-06-27_01-00006.txt',\n",
      "               'KB_JB838_1897-07-14_01-00001.txt',\n",
      "               'KB_JB838_1897-07-29_01-00007.txt',\n",
      "               'KB_JB838_1897-08-12_01-00007.txt',\n",
      "               'KB_JB838_1897-08-28_01-00001.txt',\n",
      "               'KB_JB838_1897-09-08_01-00006.txt',\n",
      "               'KB_JB838_1897-09-15_01-00005.txt',\n",
      "               'KB_JB838_1897-09-22_01-00001.txt',\n",
      "               'KB_JB838_1897-09-27_01-00001.txt',\n",
      "               'KB_JB838_1897-10-10_01-00006.txt',\n",
      "               'KB_JB838_1897-10-15_01-00007.txt',\n",
      "               'KB_JB838_1897-10-24_01-00005.txt',\n",
      "               'KB_JB838_1897-11-20_01-00001.txt',\n",
      "               'KB_JB838_1897-12-04_01-00006.txt',\n",
      "               'KB_JB838_1897-12-11_01-00001.txt',\n",
      "               'KB_JB838_1897-12-16_01-00007.txt',\n",
      "               'KB_JB838_1897-12-19_01-00005.txt',\n",
      "               'KB_JB838_1898-01-02_01-00001.txt',\n",
      "               'KB_JB838_1898-01-22_01-00001.txt',\n",
      "               'KB_JB838_1898-02-14_01-00002.txt',\n",
      "               'KB_JB838_1898-03-06_01-00005.txt',\n",
      "               'KB_JB838_1898-03-10_01-00007.txt',\n",
      "               'KB_JB838_1898-03-27_01-00005.txt',\n",
      "               'KB_JB838_1898-04-13_01-00005.txt',\n",
      "               'KB_JB838_1898-04-28_01-00006.txt',\n",
      "               'KB_JB838_1898-05-14_01-00005.txt',\n",
      "               'KB_JB838_1898-06-10_01-00001.txt',\n",
      "               'KB_JB838_1898-06-19_01-00005.txt',\n",
      "               'KB_JB838_1898-06-22_01-00005.txt',\n",
      "               'KB_JB838_1898-06-28_01-00001.txt',\n",
      "               'KB_JB838_1898-07-14_01-00007.txt',\n",
      "               'KB_JB838_1898-07-21_01-00006.txt',\n",
      "               'KB_JB838_1898-07-27_01-00001.txt',\n",
      "               'KB_JB838_1898-08-11_01-00006.txt',\n",
      "               'KB_JB838_1898-08-11_01-00007.txt',\n",
      "               'KB_JB838_1898-09-08_01-00005.txt',\n",
      "               'KB_JB838_1898-09-13_01-00001.txt',\n",
      "               'KB_JB838_1898-09-22_01-00006.txt',\n",
      "               'KB_JB838_1898-10-03_01-00001.txt',\n",
      "               'KB_JB838_1898-11-25_01-00005.txt',\n",
      "               'KB_JB838_1898-12-26_01-00001.txt'],\n",
      " np.int32(6): ['KB_JB838_1890-01-16_01-00002.txt',\n",
      "               'KB_JB838_1890-01-27_01-00002.txt',\n",
      "               'KB_JB838_1890-02-12_01-00002.txt',\n",
      "               'KB_JB838_1890-03-13_01-00002.txt',\n",
      "               'KB_JB838_1890-04-06_01-00002.txt',\n",
      "               'KB_JB838_1890-05-06_01-00002.txt',\n",
      "               'KB_JB838_1890-07-11_01-00002.txt',\n",
      "               'KB_JB838_1890-08-06_01-00002.txt',\n",
      "               'KB_JB838_1890-08-29_01-00002.txt',\n",
      "               'KB_JB838_1890-09-01_01-00002.txt',\n",
      "               'KB_JB838_1890-09-18_01-00002.txt',\n",
      "               'KB_JB838_1890-10-01_01-00002.txt',\n",
      "               'KB_JB838_1890-10-14_01-00002.txt',\n",
      "               'KB_JB838_1890-11-19_01-00002.txt',\n",
      "               'KB_JB838_1890-12-13_01-00002.txt',\n",
      "               'KB_JB838_1890-12-16_01-00004.txt',\n",
      "               'KB_JB838_1891-01-15_01-00002.txt',\n",
      "               'KB_JB838_1891-03-14_01-00002.txt',\n",
      "               'KB_JB838_1891-03-24_01-00002.txt',\n",
      "               'KB_JB838_1891-04-08_01-00002.txt',\n",
      "               'KB_JB838_1891-04-23_01-00002.txt',\n",
      "               'KB_JB838_1891-05-18_01-00002.txt',\n",
      "               'KB_JB838_1891-05-27_01-00002.txt',\n",
      "               'KB_JB838_1891-06-03_01-00002.txt',\n",
      "               'KB_JB838_1891-06-04_01-00002.txt',\n",
      "               'KB_JB838_1891-06-20_01-00002.txt',\n",
      "               'KB_JB838_1891-07-07_01-00002.txt',\n",
      "               'KB_JB838_1891-07-10_01-00002.txt',\n",
      "               'KB_JB838_1891-08-14_01-00002.txt',\n",
      "               'KB_JB838_1891-09-08_01-00002.txt',\n",
      "               'KB_JB838_1891-10-01_01-00002.txt',\n",
      "               'KB_JB838_1891-10-03_01-00002.txt',\n",
      "               'KB_JB838_1891-10-07_01-00002.txt',\n",
      "               'KB_JB838_1891-12-18_01-00002.txt',\n",
      "               'KB_JB838_1892-01-24_01-00002.txt',\n",
      "               'KB_JB838_1892-02-04_01-00002.txt',\n",
      "               'KB_JB838_1892-02-10_01-00002.txt',\n",
      "               'KB_JB838_1892-02-29_01-00002.txt',\n",
      "               'KB_JB838_1892-03-03_01-00002.txt',\n",
      "               'KB_JB838_1892-03-15_01-00002.txt',\n",
      "               'KB_JB838_1892-03-16_01-00002.txt',\n",
      "               'KB_JB838_1892-03-18_01-00002.txt',\n",
      "               'KB_JB838_1892-04-04_01-00002.txt',\n",
      "               'KB_JB838_1892-04-06_01-00002.txt',\n",
      "               'KB_JB838_1892-04-26_01-00002.txt',\n",
      "               'KB_JB838_1892-04-29_01-00006.txt',\n",
      "               'KB_JB838_1892-06-10_01-00002.txt',\n",
      "               'KB_JB838_1892-07-04_01-00002.txt',\n",
      "               'KB_JB838_1892-08-04_01-00002.txt',\n",
      "               'KB_JB838_1892-08-08_01-00002.txt',\n",
      "               'KB_JB838_1892-09-09_01-00003.txt',\n",
      "               'KB_JB838_1892-10-06_01-00002.txt',\n",
      "               'KB_JB838_1892-10-10_01-00002.txt',\n",
      "               'KB_JB838_1892-11-07_01-00002.txt',\n",
      "               'KB_JB838_1892-11-15_01-00002.txt',\n",
      "               'KB_JB838_1892-12-10_01-00003.txt',\n",
      "               'KB_JB838_1892-12-23_01-00003.txt',\n",
      "               'KB_JB838_1893-01-09_01-00002.txt',\n",
      "               'KB_JB838_1893-01-16_01-00002.txt',\n",
      "               'KB_JB838_1893-01-24_01-00002.txt',\n",
      "               'KB_JB838_1893-02-11_01-00002.txt',\n",
      "               'KB_JB838_1893-03-05_01-00002.txt',\n",
      "               'KB_JB838_1893-03-27_01-00002.txt',\n",
      "               'KB_JB838_1893-03-28_01-00002.txt',\n",
      "               'KB_JB838_1893-04-20_01-00003.txt',\n",
      "               'KB_JB838_1893-05-21_01-00001.txt',\n",
      "               'KB_JB838_1893-06-30_01-00002.txt',\n",
      "               'KB_JB838_1893-07-02_01-00002.txt',\n",
      "               'KB_JB838_1893-07-20_01-00002.txt',\n",
      "               'KB_JB838_1893-08-10_01-00002.txt',\n",
      "               'KB_JB838_1893-08-15_01-00003.txt',\n",
      "               'KB_JB838_1893-08-19_01-00003.txt',\n",
      "               'KB_JB838_1893-08-25_01-00003.txt',\n",
      "               'KB_JB838_1893-08-29_01-00003.txt',\n",
      "               'KB_JB838_1893-09-10_01-00002.txt',\n",
      "               'KB_JB838_1893-09-13_01-00002.txt',\n",
      "               'KB_JB838_1893-10-20_01-00002.txt',\n",
      "               'KB_JB838_1893-10-25_01-00002.txt',\n",
      "               'KB_JB838_1893-12-16_01-00002.txt',\n",
      "               'KB_JB838_1893-12-30_01-00002.txt',\n",
      "               'KB_JB838_1894-01-18_01-00002.txt',\n",
      "               'KB_JB838_1894-01-23_01-00002.txt',\n",
      "               'KB_JB838_1894-02-10_01-00003.txt',\n",
      "               'KB_JB838_1894-02-27_01-00002.txt',\n",
      "               'KB_JB838_1894-03-03_01-00002.txt',\n",
      "               'KB_JB838_1894-03-20_01-00002.txt',\n",
      "               'KB_JB838_1894-03-21_01-00002.txt',\n",
      "               'KB_JB838_1894-03-31_01-00002.txt',\n",
      "               'KB_JB838_1894-04-14_01-00002.txt',\n",
      "               'KB_JB838_1894-06-09_01-00002.txt',\n",
      "               'KB_JB838_1894-06-12_01-00002.txt',\n",
      "               'KB_JB838_1894-06-23_01-00003.txt',\n",
      "               'KB_JB838_1894-06-26_01-00002.txt',\n",
      "               'KB_JB838_1894-06-29_01-00003.txt',\n",
      "               'KB_JB838_1894-07-03_01-00002.txt',\n",
      "               'KB_JB838_1894-08-04_01-00002.txt',\n",
      "               'KB_JB838_1894-08-11_01-00003.txt',\n",
      "               'KB_JB838_1894-08-29_01-00002.txt',\n",
      "               'KB_JB838_1894-09-13_01-00002.txt',\n",
      "               'KB_JB838_1894-10-29_01-00002.txt',\n",
      "               'KB_JB838_1894-11-19_01-00002.txt',\n",
      "               'KB_JB838_1894-12-04_01-00002.txt',\n",
      "               'KB_JB838_1894-12-06_01-00002.txt',\n",
      "               'KB_JB838_1895-01-05_01-00002.txt',\n",
      "               'KB_JB838_1895-01-22_01-00002.txt',\n",
      "               'KB_JB838_1895-01-22_01-00006.txt',\n",
      "               'KB_JB838_1895-01-23_01-00002.txt',\n",
      "               'KB_JB838_1895-02-01_01-00003.txt',\n",
      "               'KB_JB838_1895-02-02_01-00002.txt',\n",
      "               'KB_JB838_1895-06-02_01-00002.txt',\n",
      "               'KB_JB838_1895-06-09_01-00002.txt',\n",
      "               'KB_JB838_1895-07-19_01-00002.txt',\n",
      "               'KB_JB838_1895-07-28_01-00002.txt',\n",
      "               'KB_JB838_1895-08-07_01-00003.txt',\n",
      "               'KB_JB838_1895-08-08_01-00003.txt',\n",
      "               'KB_JB838_1895-08-19_01-00002.txt',\n",
      "               'KB_JB838_1895-10-23_01-00002.txt',\n",
      "               'KB_JB838_1895-10-26_01-00002.txt',\n",
      "               'KB_JB838_1895-11-05_01-00002.txt',\n",
      "               'KB_JB838_1895-12-01_01-00002.txt',\n",
      "               'KB_JB838_1895-12-15_01-00002.txt',\n",
      "               'KB_JB838_1895-12-26_01-00003.txt',\n",
      "               'KB_JB838_1896-01-28_01-00002.txt',\n",
      "               'KB_JB838_1896-02-12_01-00002.txt',\n",
      "               'KB_JB838_1896-02-12_01-00004.txt',\n",
      "               'KB_JB838_1896-04-08_01-00002.txt',\n",
      "               'KB_JB838_1896-06-17_01-00002.txt',\n",
      "               'KB_JB838_1896-08-07_01-00002.txt',\n",
      "               'KB_JB838_1896-09-01_01-00003.txt',\n",
      "               'KB_JB838_1896-09-08_01-00003.txt',\n",
      "               'KB_JB838_1896-09-16_01-00002.txt',\n",
      "               'KB_JB838_1896-09-29_01-00002.txt',\n",
      "               'KB_JB838_1896-10-05_01-00002.txt',\n",
      "               'KB_JB838_1896-11-17_01-00003.txt',\n",
      "               'KB_JB838_1896-11-25_01-00002.txt',\n",
      "               'KB_JB838_1896-11-28_01-00001.txt',\n",
      "               'KB_JB838_1896-12-20_01-00002.txt',\n",
      "               'KB_JB838_1896-12-29_01-00002.txt',\n",
      "               'KB_JB838_1897-01-24_01-00002.txt',\n",
      "               'KB_JB838_1897-02-03_01-00002.txt',\n",
      "               'KB_JB838_1897-02-12_01-00002.txt',\n",
      "               'KB_JB838_1897-03-02_01-00002.txt',\n",
      "               'KB_JB838_1897-03-16_01-00002.txt',\n",
      "               'KB_JB838_1897-03-19_01-00002.txt',\n",
      "               'KB_JB838_1897-03-28_01-00002.txt',\n",
      "               'KB_JB838_1897-04-08_01-00002.txt',\n",
      "               'KB_JB838_1897-05-11_01-00002.txt',\n",
      "               'KB_JB838_1897-05-15_01-00002.txt',\n",
      "               'KB_JB838_1897-06-02_01-00002.txt',\n",
      "               'KB_JB838_1897-07-05_01-00002.txt',\n",
      "               'KB_JB838_1897-08-07_01-00003.txt',\n",
      "               'KB_JB838_1897-08-10_01-00005.txt',\n",
      "               'KB_JB838_1897-08-20_01-00002.txt',\n",
      "               'KB_JB838_1897-08-29_01-00002.txt',\n",
      "               'KB_JB838_1897-10-07_01-00002.txt',\n",
      "               'KB_JB838_1897-10-26_01-00002.txt',\n",
      "               'KB_JB838_1897-12-05_01-00002.txt',\n",
      "               'KB_JB838_1897-12-07_01-00002.txt',\n",
      "               'KB_JB838_1897-12-10_01-00002.txt',\n",
      "               'KB_JB838_1897-12-22_01-00002.txt',\n",
      "               'KB_JB838_1897-12-30_01-00002.txt',\n",
      "               'KB_JB838_1898-02-21_01-00003.txt',\n",
      "               'KB_JB838_1898-02-28_01-00002.txt',\n",
      "               'KB_JB838_1898-04-17_01-00002.txt',\n",
      "               'KB_JB838_1898-04-19_01-00002.txt',\n",
      "               'KB_JB838_1898-04-25_01-00002.txt',\n",
      "               'KB_JB838_1898-06-06_01-00003.txt',\n",
      "               'KB_JB838_1898-06-15_01-00002.txt',\n",
      "               'KB_JB838_1898-06-25_01-00002.txt',\n",
      "               'KB_JB838_1898-07-20_01-00003.txt',\n",
      "               'KB_JB838_1898-07-22_01-00003.txt',\n",
      "               'KB_JB838_1898-07-23_01-00002.txt',\n",
      "               'KB_JB838_1898-07-29_01-00002.txt',\n",
      "               'KB_JB838_1898-09-23_01-00003.txt',\n",
      "               'KB_JB838_1898-09-25_01-00002.txt',\n",
      "               'KB_JB838_1898-09-28_01-00002.txt',\n",
      "               'KB_JB838_1898-09-29_01-00002.txt',\n",
      "               'KB_JB838_1898-10-05_01-00002.txt',\n",
      "               'KB_JB838_1898-10-19_01-00002.txt']}\n"
     ]
    }
   ],
   "source": [
    "pprint(dict(clustering))"
   ]
  },
  {
   "cell_type": "markdown",
   "metadata": {},
   "source": [
    "## Visualiser les clusters"
   ]
  },
  {
   "cell_type": "markdown",
   "metadata": {},
   "source": [
    "### Réduire les vecteurs à 2 dimensions à l'aide de l'algorithme PCA\n",
    "Cette étape est nécessaire afin de visualiser les documents dans un espace 2D\n",
    "\n",
    "https://fr.wikipedia.org/wiki/Analyse_en_composantes_principales"
   ]
  },
  {
   "cell_type": "code",
   "execution_count": 26,
   "metadata": {},
   "outputs": [],
   "source": [
    "pca = PCA(n_components=2)\n",
    "reduced_vectors = pca.fit_transform(tfidf_vectors.toarray())"
   ]
  },
  {
   "cell_type": "code",
   "execution_count": 27,
   "metadata": {},
   "outputs": [
    {
     "data": {
      "text/plain": [
       "array([[-0.07376404,  0.58397259],\n",
       "       [ 0.1210826 ,  0.44897298],\n",
       "       [-0.09564643,  0.19921268],\n",
       "       [-0.09967026,  0.19345315],\n",
       "       [-0.07116783,  0.57678448],\n",
       "       [-0.21578394, -0.1158428 ],\n",
       "       [-0.2350747 , -0.06550891],\n",
       "       [-0.1814789 , -0.08390877],\n",
       "       [-0.10335835,  0.17824325],\n",
       "       [-0.25679124, -0.18774941]])"
      ]
     },
     "execution_count": 27,
     "metadata": {},
     "output_type": "execute_result"
    }
   ],
   "source": [
    "reduced_vectors[:10]"
   ]
  },
  {
   "cell_type": "markdown",
   "metadata": {},
   "source": [
    "### Générer le plot"
   ]
  },
  {
   "cell_type": "code",
   "execution_count": 28,
   "metadata": {},
   "outputs": [
    {
     "data": {
      "text/plain": [
       "<matplotlib.legend.Legend at 0x122c6ca10>"
      ]
     },
     "execution_count": 28,
     "metadata": {},
     "output_type": "execute_result"
    },
    {
     "data": {
      "image/png": "[encoded data removed]",
      "text/plain": [
       "<Figure size 1000x1000 with 1 Axes>"
      ]
     },
     "metadata": {},
     "output_type": "display_data"
    }
   ],
   "source": [
    "x_axis = reduced_vectors[:, 0]\n",
    "y_axis = reduced_vectors[:, 1]\n",
    "\n",
    "plt.figure(figsize=(10,10))\n",
    "scatter = plt.scatter(x_axis, y_axis, s=100, c=clusters)\n",
    "\n",
    "# Ajouter les centroïdes\n",
    "centroids = pca.transform(km_model.cluster_centers_)\n",
    "plt.scatter(centroids[:, 0], centroids[:, 1],  marker = \"x\", s=100, linewidths = 2, color='black')\n",
    "\n",
    "# Ajouter la légende\n",
    "plt.legend(handles=scatter.legend_elements()[0], labels=set(clusters), title=\"Clusters\")"
   ]
  },
  {
   "cell_type": "markdown",
   "metadata": {},
   "source": [
    "### 3. Interprétation des résultats"
   ]
  },
  {
   "cell_type": "markdown",
   "metadata": {},
   "source": [
    "### 4. Téléchargement et préparation du fichier sents.txt\n",
    "Le fichier sents.txt a été téléchargé et placé dans le dossier data/. Ce fichier contient des phrases segmentées, prêtes pour l'entraînement du modèle Word2Vec."
   ]
  },
  {
   "cell_type": "markdown",
   "metadata": {},
   "source": [
    "### 5. Entraîner un modèle Word2Vec\n"
   ]
  },
  {
   "cell_type": "code",
   "execution_count": null,
   "metadata": {},
   "outputs": [],
   "source": [
    "from gensim.models.phrases import Phrases, Phraser\n",
    "from gensim.models import Word2Vec\n",
    "import nltk\n",
    "from nltk.tokenize import wordpunct_tokenize\n",
    "from unidecode import unidecode\n",
    "\n",
    "nltk.download('punkt')\n",
    "\n",
    "# Charger et traiter les phrases du corpus\n",
    "class MySentences(object):\n",
    "    def __init__(self, filename):\n",
    "        self.filename = filename\n",
    "\n",
    "    def __iter__(self):\n",
    "        for line in open(self.filename, encoding='utf-8'):\n",
    "            yield [unidecode(w.lower()) for w in wordpunct_tokenize(line)]\n",
    "\n",
    "infile = \"../data/sents1.txt\"\n",
    "sentences = MySentences(infile)\n",
    "\n",
    "# Détection des bigrams et trigrams\n",
    "bigram_phrases = Phrases(sentences)\n",
    "bigram_phraser = Phraser(bigram_phrases)\n",
    "trigram_phrases = Phrases(bigram_phraser[sentences])\n",
    "trigram_phraser = Phraser(trigram_phrases)\n",
    "corpus = list(trigram_phraser[bigram_phraser[sentences]])\n",
    "\n",
    "# Entraîner le modèle Word2Vec\n",
    "model = Word2Vec(corpus, vector_size=32, window=1, min_count=1, workers=4, epochs=5)\n",
    "model.save(\"../data/word2vec.model\")\n"
   ]
  },
  {
   "cell_type": "markdown",
   "metadata": {},
   "source": [
    "### 6. Comparaison des modèles\n"
   ]
  }
 ],
 "metadata": {
  "kernelspec": {
   "display_name": ".env",
   "language": "python",
   "name": "python3"
  },
  "language_info": {
   "codemirror_mode": {
    "name": "ipython",
    "version": 3
   },
   "file_extension": ".py",
   "mimetype": "text/x-python",
   "name": "python",
   "nbconvert_exporter": "python",
   "pygments_lexer": "ipython3",
   "version": "3.11.7"
  }
 },
 "nbformat": 4,
 "nbformat_minor": 4
}
