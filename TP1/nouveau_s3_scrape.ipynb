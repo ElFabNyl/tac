{
 "cells": [
  {
   "cell_type": "markdown",
   "metadata": {},
   "source": [
    "# Question 3 : Adaptation du script s3_scrape.ipynb afin de télécharger automatiquement les 51 fichiers PDFs listés sur hhtps://max.de.wilde.web.ulb.be/camille/"
   ]
  },
  {
   "cell_type": "markdown",
   "metadata": {},
   "source": [
    "## j'utilise le endpoint person posts, pour recuper les posts d'un utilisateur specifique"
   ]
  },
  {
   "cell_type": "code",
   "execution_count": 1,
   "metadata": {},
   "outputs": [],
   "source": [
    "import os\n",
    "import requests\n",
    "from bs4 import BeautifulSoup "
   ]
  },
  {
   "cell_type": "code",
   "execution_count": 2,
   "metadata": {},
   "outputs": [
    {
     "name": "stdout",
     "output_type": "stream",
     "text": [
      "Téléchargement de KB_JB230_1892-08-07_01-0003.pdf...\n",
      "KB_JB230_1892-08-07_01-0003.pdf téléchargé et sauvegardé dans pdf_downloads\n",
      "Téléchargement de KB_JB427_1920-01-10_01-00004.pdf...\n",
      "KB_JB427_1920-01-10_01-00004.pdf téléchargé et sauvegardé dans pdf_downloads\n",
      "Téléchargement de KB_JB555_1836-02-08_01-00002.pdf...\n",
      "KB_JB555_1836-02-08_01-00002.pdf téléchargé et sauvegardé dans pdf_downloads\n",
      "Téléchargement de KB_JB638_1860-05-21_01-00002.pdf...\n",
      "KB_JB638_1860-05-21_01-00002.pdf téléchargé et sauvegardé dans pdf_downloads\n",
      "Téléchargement de KB_JB773_1918-11-30_01-00002.pdf...\n",
      "KB_JB773_1918-11-30_01-00002.pdf téléchargé et sauvegardé dans pdf_downloads\n",
      "Téléchargement de KB_JB838_1887-12-28_01-00003.pdf...\n",
      "KB_JB838_1887-12-28_01-00003.pdf téléchargé et sauvegardé dans pdf_downloads\n",
      "Téléchargement de KB_JB230_1903-10-16_01-0002.pdf...\n",
      "KB_JB230_1903-10-16_01-0002.pdf téléchargé et sauvegardé dans pdf_downloads\n",
      "Téléchargement de KB_JB427_1933-01-04_01-00003.pdf...\n",
      "KB_JB427_1933-01-04_01-00003.pdf téléchargé et sauvegardé dans pdf_downloads\n",
      "Téléchargement de KB_JB555_1899-01-19_01-00003.pdf...\n",
      "KB_JB555_1899-01-19_01-00003.pdf téléchargé et sauvegardé dans pdf_downloads\n",
      "Téléchargement de KB_JB638_1902-12-20_01-00002.pdf...\n",
      "KB_JB638_1902-12-20_01-00002.pdf téléchargé et sauvegardé dans pdf_downloads\n",
      "Téléchargement de KB_JB773_1933-10-07_01-00007.pdf...\n",
      "KB_JB773_1933-10-07_01-00007.pdf téléchargé et sauvegardé dans pdf_downloads\n",
      "Téléchargement de KB_JB838_1911-08-03_01-00006.pdf...\n",
      "KB_JB838_1911-08-03_01-00006.pdf téléchargé et sauvegardé dans pdf_downloads\n",
      "Téléchargement de KB_JB230_1913-07-05_01-0001.pdf...\n",
      "KB_JB230_1913-07-05_01-0001.pdf téléchargé et sauvegardé dans pdf_downloads\n",
      "Téléchargement de KB_JB427_1949-07-18_01-00008.pdf...\n",
      "KB_JB427_1949-07-18_01-00008.pdf téléchargé et sauvegardé dans pdf_downloads\n",
      "Téléchargement de KB_JB555_1940-03-01_01-00004.pdf...\n",
      "KB_JB555_1940-03-01_01-00004.pdf téléchargé et sauvegardé dans pdf_downloads\n",
      "Téléchargement de KB_JB638_1946-07-18_01-00003.pdf...\n",
      "KB_JB638_1946-07-18_01-00003.pdf téléchargé et sauvegardé dans pdf_downloads\n",
      "Téléchargement de KB_JB773_1950-07-22_01-00010.pdf...\n",
      "KB_JB773_1950-07-22_01-00010.pdf téléchargé et sauvegardé dans pdf_downloads\n",
      "Téléchargement de KB_JB838_1943-09-04_01-00002.pdf...\n",
      "KB_JB838_1943-09-04_01-00002.pdf téléchargé et sauvegardé dans pdf_downloads\n",
      "Téléchargement de KB_JB258_1884-09-03_01-0003.pdf...\n",
      "KB_JB258_1884-09-03_01-0003.pdf téléchargé et sauvegardé dans pdf_downloads\n",
      "Téléchargement de KB_JB449_1846-05-30_01-00002.pdf...\n",
      "KB_JB449_1846-05-30_01-00002.pdf téléchargé et sauvegardé dans pdf_downloads\n",
      "Téléchargement de KB_JB567_1857-02-02_01-00003.pdf...\n",
      "KB_JB567_1857-02-02_01-00003.pdf téléchargé et sauvegardé dans pdf_downloads\n",
      "Téléchargement de KB_JB685_1894-05-14_01-0003.pdf...\n",
      "KB_JB685_1894-05-14_01-0003.pdf téléchargé et sauvegardé dans pdf_downloads\n",
      "Téléchargement de KB_JB835_1911-04-24_01-00004.pdf...\n",
      "KB_JB835_1911-04-24_01-00004.pdf téléchargé et sauvegardé dans pdf_downloads\n",
      "Téléchargement de KB_JB92_1860-02-09_01-00003.pdf...\n",
      "KB_JB92_1860-02-09_01-00003.pdf téléchargé et sauvegardé dans pdf_downloads\n",
      "Téléchargement de KB_JB258_1894-12-09_01-0003.pdf...\n",
      "KB_JB258_1894-12-09_01-0003.pdf téléchargé et sauvegardé dans pdf_downloads\n",
      "Téléchargement de KB_JB449_1912-01-04_01-00003.pdf...\n",
      "KB_JB449_1912-01-04_01-00003.pdf téléchargé et sauvegardé dans pdf_downloads\n",
      "Téléchargement de KB_JB567_1892-01-03_01-00005.pdf...\n",
      "KB_JB567_1892-01-03_01-00005.pdf téléchargé et sauvegardé dans pdf_downloads\n",
      "Téléchargement de KB_JB685_1903-01-18_01-0002.pdf...\n",
      "KB_JB685_1903-01-18_01-0002.pdf téléchargé et sauvegardé dans pdf_downloads\n",
      "Téléchargement de KB_JB835_1930-04-08_01-00006.pdf...\n",
      "KB_JB835_1930-04-08_01-00006.pdf téléchargé et sauvegardé dans pdf_downloads\n",
      "Téléchargement de KB_JB92_1873-02-06_01-00002.pdf...\n",
      "KB_JB92_1873-02-06_01-00002.pdf téléchargé et sauvegardé dans pdf_downloads\n",
      "Téléchargement de KB_JB258_1906-01-09_01-0002.pdf...\n",
      "KB_JB258_1906-01-09_01-0002.pdf téléchargé et sauvegardé dans pdf_downloads\n",
      "Téléchargement de KB_JB449_1947-08-29_01-00003.pdf...\n",
      "KB_JB449_1947-08-29_01-00003.pdf téléchargé et sauvegardé dans pdf_downloads\n",
      "Téléchargement de KB_JB567_1924-08-30_01-00003.pdf...\n",
      "KB_JB567_1924-08-30_01-00003.pdf téléchargé et sauvegardé dans pdf_downloads\n",
      "Téléchargement de KB_JB685_1913-06-07_01-0006.pdf...\n",
      "KB_JB685_1913-06-07_01-0006.pdf téléchargé et sauvegardé dans pdf_downloads\n",
      "Téléchargement de KB_JB835_1949-09-18_01-00004.pdf...\n",
      "KB_JB835_1949-09-18_01-00004.pdf téléchargé et sauvegardé dans pdf_downloads\n",
      "Téléchargement de KB_JB92_1885-09-29_01-00002.pdf...\n",
      "KB_JB92_1885-09-29_01-00002.pdf téléchargé et sauvegardé dans pdf_downloads\n",
      "Téléchargement de KB_JB421_1899-05-15_01-00003.pdf...\n",
      "KB_JB421_1899-05-15_01-00003.pdf téléchargé et sauvegardé dans pdf_downloads\n",
      "Téléchargement de KB_JB494_1853-10-30_01-0002.pdf...\n",
      "KB_JB494_1853-10-30_01-0002.pdf téléchargé et sauvegardé dans pdf_downloads\n",
      "Téléchargement de KB_JB572_1850-03-15_01-00003.pdf...\n",
      "KB_JB572_1850-03-15_01-00003.pdf téléchargé et sauvegardé dans pdf_downloads\n",
      "Téléchargement de KB_JB729_1895-10-08_01-00003.pdf...\n",
      "KB_JB729_1895-10-08_01-00003.pdf téléchargé et sauvegardé dans pdf_downloads\n",
      "Téléchargement de KB_JB837_1886-12-28_01-00002.pdf...\n",
      "KB_JB837_1886-12-28_01-00002.pdf téléchargé et sauvegardé dans pdf_downloads\n",
      "Téléchargement de KB_JB421_1926-10-29_01-00002.pdf...\n",
      "KB_JB421_1926-10-29_01-00002.pdf téléchargé et sauvegardé dans pdf_downloads\n",
      "Téléchargement de KB_JB494_1922-09-28_01-0005.pdf...\n",
      "KB_JB494_1922-09-28_01-0005.pdf téléchargé et sauvegardé dans pdf_downloads\n",
      "Téléchargement de KB_JB572_1927-07-20_01-00005.pdf...\n",
      "KB_JB572_1927-07-20_01-00005.pdf téléchargé et sauvegardé dans pdf_downloads\n",
      "Téléchargement de KB_JB729_1927-11-15_01-00004.pdf...\n",
      "KB_JB729_1927-11-15_01-00004.pdf téléchargé et sauvegardé dans pdf_downloads\n",
      "Téléchargement de KB_JB837_1925-01-01_01-00003.pdf...\n",
      "KB_JB837_1925-01-01_01-00003.pdf téléchargé et sauvegardé dans pdf_downloads\n",
      "Téléchargement de KB_JB421_1950-04-15_01-00004.pdf...\n",
      "KB_JB421_1950-04-15_01-00004.pdf téléchargé et sauvegardé dans pdf_downloads\n",
      "Téléchargement de KB_JB494_1939-12-08_01-0004.pdf...\n",
      "KB_JB494_1939-12-08_01-0004.pdf téléchargé et sauvegardé dans pdf_downloads\n",
      "Téléchargement de KB_JB572_1950-06-07_01-00004.pdf...\n",
      "KB_JB572_1950-06-07_01-00004.pdf téléchargé et sauvegardé dans pdf_downloads\n",
      "Téléchargement de KB_JB729_1939-10-31_01-00006.pdf...\n",
      "KB_JB729_1939-10-31_01-00006.pdf téléchargé et sauvegardé dans pdf_downloads\n",
      "Téléchargement de KB_JB837_1950-12-01_01-00007.pdf...\n",
      "KB_JB837_1950-12-01_01-00007.pdf téléchargé et sauvegardé dans pdf_downloads\n"
     ]
    }
   ],
   "source": [
    "headers = {\n",
    "    'User-Agent': 'Mozilla/5.0 (Macintosh; Intel Mac OS X 10_10_1) AppleWebKit/537.36 (KHTML, like Gecko) Chrome/39.0.2171.95 Safari/537.36'\n",
    "}\n",
    "\n",
    "\n",
    "root_url = 'https://max.de.wilde.web.ulb.be/camille/'\n",
    "\n",
    "response = requests.get(root_url, headers=headers)\n",
    "soup = BeautifulSoup(response.text, 'html.parser')\n",
    "\n",
    "\n",
    "download_dir = 'les_pdfs_telechargés'\n",
    "if not os.path.exists(download_dir):\n",
    "    os.makedirs(download_dir)\n",
    "\n",
    "\n",
    "for link in soup.find_all('a'):\n",
    "    file_url = link.get('href')\n",
    "    if file_url.endswith('.pdf'):  \n",
    "\n",
    "        full_url = root_url + file_url\n",
    "        file_name = file_url.split('/')[-1]\n",
    "        \n",
    "        \n",
    "        print(f'Le  fichier {file_name}... est en cours de télécharment')\n",
    "        response = requests.get(full_url, headers=headers)\n",
    "        \n",
    "        \n",
    "        file_path = os.path.join(download_dir, file_name)\n",
    "        with open(file_path, 'wb') as f:\n",
    "            f.write(response.content)\n",
    "        print(f'{file_name} téléchargé et sauvegardé dans {download_dir}')"
   ]
  },
  {
   "cell_type": "markdown",
   "metadata": {},
   "source": [
    "## Pour en savoir plus"
   ]
  },
  {
   "cell_type": "markdown",
   "metadata": {},
   "source": [
    "- Le web scraping avec Python: https://realpython.com/beautiful-soup-web-scraper-python/\n",
    "- Tutoriel sur les expressions régulières: https://www.w3schools.com/python/python_regex.asp"
   ]
  }
 ],
 "metadata": {
  "kernelspec": {
   "display_name": "Python 3.10.5 ('tac_venv': venv)",
   "language": "python",
   "name": "python3"
  },
  "language_info": {
   "codemirror_mode": {
    "name": "ipython",
    "version": 3
   },
   "file_extension": ".py",
   "mimetype": "text/x-python",
   "name": "python",
   "nbconvert_exporter": "python",
   "pygments_lexer": "ipython3",
   "version": "3.11.7"
  },
  "vscode": {
   "interpreter": {
    "hash": "b1932ab1d169b4769d1550e799423b6477588e745f266d79d9004c136c81607e"
   }
  }
 },
 "nbformat": 4,
 "nbformat_minor": 4
}
